{
  "cells": [
    {
      "cell_type": "markdown",
      "metadata": {
        "id": "0028f3fd"
      },
      "source": [
        "\n",
        "**Necessary Imports for Model Training and Evaluation**"
      ],
      "id": "0028f3fd"
    },
    {
      "cell_type": "code",
      "execution_count": 9,
      "metadata": {
        "id": "f5464335"
      },
      "outputs": [],
      "source": [
        "import pandas as pd\n",
        "from sklearn.linear_model import LogisticRegression\n",
        "from sklearn.tree import DecisionTreeClassifier\n",
        "from sklearn.ensemble import RandomForestClassifier\n",
        "from sklearn import metrics\n",
        "from sklearn.metrics import ConfusionMatrixDisplay\n",
        "import torch\n",
        "import torch.nn as nn\n",
        "import torch.nn.functional as F\n",
        "import matplotlib.pyplot as plt\n",
        "from sklearn.metrics import confusion_matrix\n",
        "from sklearn.model_selection import train_test_split\n",
        "import numpy as np"
      ],
      "id": "f5464335"
    },
    {
      "cell_type": "markdown",
      "metadata": {
        "id": "a071e17a"
      },
      "source": [
        "**Loading Data and Adding Appropriate Columns**"
      ],
      "id": "a071e17a"
    },
    {
      "cell_type": "code",
      "execution_count": 10,
      "metadata": {
        "colab": {
          "base_uri": "https://localhost:8080/"
        },
        "id": "8c6e0fd3",
        "outputId": "9f3ffd53-0eae-4d23-dc05-c9b3c911a00a"
      },
      "outputs": [
        {
          "output_type": "stream",
          "name": "stdout",
          "text": [
            "False\n"
          ]
        },
        {
          "output_type": "stream",
          "name": "stderr",
          "text": [
            "<ipython-input-10-6cc6db623609>:2: DtypeWarning: Columns (564) have mixed types. Specify dtype option on import or set low_memory=False.\n",
            "  total_data = pd.read_csv('/content/TCGA_mirna_cancer_dataset.csv')\n"
          ]
        }
      ],
      "source": [
        "print(torch.cuda.is_available())\n",
        "total_data = pd.read_csv('/content/TCGA_mirna_cancer_dataset.csv')\n",
        "sra_data = pd.read_csv('/content/SRA_mirna_cancer_dataset.csv')\n",
        "sra_data=sra_data.astype({'disease_type': 'int64'})\n",
        "#total_data = pd.read_csv('full_miRNA_meta_dataset_normalized.csv')\n",
        "total_data.replace('False', 0, inplace=True)\n",
        "#case_id column is unnecessary for our purposes\n",
        "total_data.drop(columns = ['case_id'], inplace = True)\n",
        "\n",
        "# Convert meta data into the appropriate data types\n",
        "total_data=total_data.astype({'disease_type': 'int64', 'gender': 'float32', 'age':'float32', 'sample_type':'int64'})\n",
        "\n"
      ],
      "id": "8c6e0fd3"
    },
    {
      "cell_type": "code",
      "source": [
        "total_data.shape"
      ],
      "metadata": {
        "colab": {
          "base_uri": "https://localhost:8080/"
        },
        "id": "dfJz-PWt5HyK",
        "outputId": "3cb9309c-b1bf-4633-ec51-a23b40dea90e"
      },
      "id": "dfJz-PWt5HyK",
      "execution_count": 11,
      "outputs": [
        {
          "output_type": "execute_result",
          "data": {
            "text/plain": [
              "(9648, 566)"
            ]
          },
          "metadata": {},
          "execution_count": 11
        }
      ]
    },
    {
      "cell_type": "code",
      "execution_count": 12,
      "metadata": {
        "id": "971f39f2"
      },
      "outputs": [],
      "source": [
        "def transform_data(df, exclude_columns):\n",
        "    data_part = df.loc[:, ~df.columns.isin(exclude_columns)]\n",
        "\n",
        "    sum_row = data_part.sum(axis=1)\n",
        "    data_part=data_part.div(sum_row, axis=0) * 1000000\n",
        "\n",
        "    data_part = np.log(data_part+1.0)\n",
        "    normalized_df=data_part\n",
        "\n",
        "\n",
        "    for col in exclude_columns:\n",
        "        normalized_df[col] = df[col]\n",
        "    return normalized_df\n"
      ],
      "id": "971f39f2"
    },
    {
      "cell_type": "code",
      "execution_count": 13,
      "metadata": {
        "colab": {
          "base_uri": "https://localhost:8080/"
        },
        "id": "f6193db5",
        "outputId": "d17de2e3-cef0-4787-de57-887039397f3d"
      },
      "outputs": [
        {
          "output_type": "stream",
          "name": "stdout",
          "text": [
            "(8355, 566)\n",
            "Training dataset shape\n",
            "(8355, 497)\n",
            "Validation dataset shape\n",
            "(928, 497)\n",
            "SRA dataset shape\n",
            "(194, 497)\n",
            "Solid tissue normal data shape: (633, 497)\n",
            "Metastatic tissue data shape: (365, 497)\n",
            "Combined test set shape: (998, 497)\n",
            "18\n"
          ]
        },
        {
          "output_type": "stream",
          "name": "stderr",
          "text": [
            "<ipython-input-13-80759e694c9a>:26: SettingWithCopyWarning: \n",
            "A value is trying to be set on a copy of a slice from a DataFrame\n",
            "\n",
            "See the caveats in the documentation: https://pandas.pydata.org/pandas-docs/stable/user_guide/indexing.html#returning-a-view-versus-a-copy\n",
            "  X.drop(columns=['disease_type'], inplace=True)\n",
            "<ipython-input-13-80759e694c9a>:34: SettingWithCopyWarning: \n",
            "A value is trying to be set on a copy of a slice from a DataFrame\n",
            "\n",
            "See the caveats in the documentation: https://pandas.pydata.org/pandas-docs/stable/user_guide/indexing.html#returning-a-view-versus-a-copy\n",
            "  X_valid.drop(columns=['disease_type'], inplace=True)\n",
            "<ipython-input-13-80759e694c9a>:42: SettingWithCopyWarning: \n",
            "A value is trying to be set on a copy of a slice from a DataFrame\n",
            "\n",
            "See the caveats in the documentation: https://pandas.pydata.org/pandas-docs/stable/user_guide/indexing.html#returning-a-view-versus-a-copy\n",
            "  X_sra.drop(columns=['disease_type'], inplace=True)\n",
            "<ipython-input-13-80759e694c9a>:51: SettingWithCopyWarning: \n",
            "A value is trying to be set on a copy of a slice from a DataFrame\n",
            "\n",
            "See the caveats in the documentation: https://pandas.pydata.org/pandas-docs/stable/user_guide/indexing.html#returning-a-view-versus-a-copy\n",
            "  X_solid_tissue_normal.drop(columns=['disease_type'], inplace=True)\n",
            "<ipython-input-13-80759e694c9a>:57: SettingWithCopyWarning: \n",
            "A value is trying to be set on a copy of a slice from a DataFrame\n",
            "\n",
            "See the caveats in the documentation: https://pandas.pydata.org/pandas-docs/stable/user_guide/indexing.html#returning-a-view-versus-a-copy\n",
            "  X_metastatic.drop(columns=['disease_type'], inplace=True)\n",
            "<ipython-input-13-80759e694c9a>:62: SettingWithCopyWarning: \n",
            "A value is trying to be set on a copy of a slice from a DataFrame\n",
            "\n",
            "See the caveats in the documentation: https://pandas.pydata.org/pandas-docs/stable/user_guide/indexing.html#returning-a-view-versus-a-copy\n",
            "  X_combined_test_set.drop(columns=['disease_type'], inplace=True)\n"
          ]
        }
      ],
      "source": [
        "#by modifying isin parameter, can change data used for training\n",
        "#0 = primary tumor, 1 = solid normal, 2 = metastatic\n",
        "\n",
        "train =total_data[total_data['sample_type'].isin([0,1])]\n",
        "\n",
        "train = transform_data(train,['age','gender','disease_type','sample_type'])\n",
        "\n",
        "#create a VALIDATION dataset --> part of tcga primary tumor samples\n",
        "#set random state so that we have exact same state every time we run code\n",
        "valid=train.sample(frac=0.1,random_state=200)\n",
        "train=train.drop(valid.index) #remove all validation data from training set\n",
        "train = train.sample(frac=1).reset_index(drop=True)\n",
        "print(train.shape)\n",
        "\n",
        "combined_test_set = total_data[total_data['sample_type'].isin([1,2])]\n",
        "#perform a log transform on combined test set and sra.\n",
        "combined_test_set = transform_data(combined_test_set, ['age','gender','disease_type','sample_type'])\n",
        "sra_data = transform_data(sra_data, ['disease_type'])\n",
        "\n",
        "solid_tissue_normal = combined_test_set[combined_test_set['sample_type'].isin([1])]\n",
        "metastatic = combined_test_set[combined_test_set['sample_type']==2]\n",
        "\n",
        "features_to_keep = pd.read_csv('miRNA_SRA_features.csv')\n",
        "#only keeping mirna in training for which data is available in sra\n",
        "X=train[list(features_to_keep['column'])]\n",
        "X.drop(columns=['disease_type'], inplace=True)\n",
        "# Drop features that are not present in the other set\n",
        "\n",
        "print(\"Training dataset shape\")\n",
        "print(X.shape)\n",
        "Y= train['disease_type']\n",
        "\n",
        "X_valid=valid[list(features_to_keep['column'])]\n",
        "X_valid.drop(columns=['disease_type'], inplace=True)\n",
        "# Drop features that are not present in the other set\n",
        "#print(X.head())\n",
        "print(\"Validation dataset shape\")\n",
        "print(X_valid.shape)\n",
        "Y_valid= valid['disease_type']\n",
        "\n",
        "X_sra = sra_data[list(features_to_keep['column'])]\n",
        "X_sra.drop(columns=['disease_type'], inplace=True)\n",
        "Y_sra= sra_data['disease_type']\n",
        "\n",
        "print(\"SRA dataset shape\")\n",
        "print(X_sra.shape)\n",
        "\n",
        "\n",
        "\n",
        "X_solid_tissue_normal = solid_tissue_normal[list(features_to_keep['column'])]\n",
        "X_solid_tissue_normal.drop(columns=['disease_type'], inplace=True)\n",
        "Y_solid_tissue_normal= solid_tissue_normal['disease_type']\n",
        "print(\"Solid tissue normal data shape:\", X_solid_tissue_normal.shape)\n",
        "\n",
        "\n",
        "X_metastatic= metastatic[list(features_to_keep['column'])]\n",
        "X_metastatic.drop(columns=['disease_type'], inplace=True)\n",
        "Y_metastatic = metastatic['disease_type']\n",
        "print(\"Metastatic tissue data shape:\", X_metastatic.shape)\n",
        "\n",
        "X_combined_test_set = combined_test_set[list(features_to_keep['column'])]\n",
        "X_combined_test_set.drop(columns=['disease_type'], inplace=True)\n",
        "Y_combined_test_set= combined_test_set['disease_type']\n",
        "print(\"Combined test set shape:\", X_combined_test_set.shape)\n",
        "\n",
        "#make a pie chart of all different types of cancers present in training set\n",
        "disease_labels=[\"Breast\", \"Uterus\", \"Ovary\", \"Prostate\", \"Testis\" ,\"Lung\", \"Kidney\",\"Bladder\",\"Esophagus\", \"Liver\",\"Pancreas\",\"Pleura\",\"Colorectal\",\n",
        "                \"Skin\", \"Stomach\",\"Brain\", \"Cervix\", \"Thyroid\"]\n",
        "disease_count = np.zeros(len(disease_labels))\n",
        "for i in range(len(disease_labels)):\n",
        "    disease_count[i] = sum(Y==i)\n",
        "\n",
        "\n",
        "print(len(disease_labels))\n",
        "#fig, ax = plt.subplots()\n",
        "#ax.pie(disease_count, labels=disease_labels,  radius = 2.8, textprops={'fontsize':14})\n",
        "#plt.show()\n",
        "\n",
        "#print(sum(disease_count))\n",
        "#print(disease_count)"
      ],
      "id": "f6193db5"
    },
    {
      "cell_type": "markdown",
      "metadata": {
        "id": "d013d813"
      },
      "source": [
        "**Function to generate ROC curve**"
      ],
      "id": "d013d813"
    },
    {
      "cell_type": "code",
      "execution_count": 14,
      "metadata": {
        "id": "39b81a52"
      },
      "outputs": [],
      "source": [
        "from sklearn.preprocessing import LabelBinarizer\n",
        "from sklearn.metrics import auc, roc_curve\n",
        "from itertools import cycle\n",
        "import matplotlib.pyplot as plt\n",
        "import math\n",
        "from sklearn.metrics import RocCurveDisplay\n",
        "\n",
        "def plot_roc_auc_for_class(y_onehot_test, y_onehot_pred_test, labels, class_index):\n",
        "  n_classes=len(labels)\n",
        "\n",
        "  fig, ax = plt.subplots(figsize=(6, 6))\n",
        "  fpr, tpr, thresholds= roc_curve(y_onehot_test[:, class_index], y_onehot_pred_test[:,class_index])\n",
        "  roc_auc = auc(fpr, tpr)\n",
        "\n",
        "  print(f\"ROC AUC score:\\n{roc_auc:.3f}\")\n",
        "  print(roc_auc)\n",
        "  ax.grid()\n",
        "  ax.plot(\n",
        "      fpr,\n",
        "      tpr,\n",
        "      label=f\"ROC curve (AUC = {roc_auc:.3f})\",\n",
        "      color=\"navy\",\n",
        "      linestyle=\":\",\n",
        "      linewidth=4,\n",
        "  )\n",
        "  ax.set(title='ROC curve for metastatic skin cancer samples')\n",
        "  plt.xlabel(\"False Positive Rate\")\n",
        "  plt.ylabel(\"True Positive Rate\")\n",
        "  ax.legend([f\"ROC curve (AUC = {roc_auc:.3f})\"])\n",
        "  plt.show()\n",
        "\n",
        "def plot_roc_curves(y_onehot_test, y_onehot_pred_test, labels):\n",
        "# store the fpr, tpr, and roc_auc for all averaging strategies\n",
        "  n_classes=len(labels)\n",
        "  fpr, tpr, roc_auc = dict(), dict(), dict()\n",
        "  thresholds=dict()\n",
        "  fig, ax = plt.subplots(figsize=(6, 6))\n",
        "  for i in range(n_classes):\n",
        "      fpr[i], tpr[i], thresholds[i] = roc_curve(y_onehot_test[:, i], y_onehot_pred_test[:,i])\n",
        "      roc_auc[i] = auc(fpr[i], tpr[i])\n",
        "  fpr_grid = np.linspace(0.0, 1.0, 1000)\n",
        "\n",
        "  # Interpolate all ROC curves at these points\n",
        "  mean_tpr = np.zeros_like(fpr_grid)\n",
        "  class_cnt=0\n",
        "  for i in range(n_classes):\n",
        "      if not np.isnan(tpr[i]).any(): # np.isnan(fpr[i]):\n",
        "        mean_tpr += np.interp(fpr_grid, fpr[i], tpr[i])  # linear interpolation\n",
        "        print(i)\n",
        "        class_cnt +=1\n",
        "\n",
        "  # Average it and compute AUC\n",
        "  mean_tpr /= class_cnt\n",
        "\n",
        "  fpr[\"macro\"] = fpr_grid\n",
        "  tpr[\"macro\"] = mean_tpr\n",
        "  roc_auc[\"macro\"] = auc(fpr[\"macro\"], tpr[\"macro\"])\n",
        "\n",
        "  print(f\"Macro-averaged One-vs-Rest ROC AUC score:\\n{roc_auc['macro']:.3f}\")\n",
        "  print(roc_auc)\n",
        "  ax.grid()\n",
        "  plt.plot(\n",
        "      fpr[\"macro\"],\n",
        "      tpr[\"macro\"],\n",
        "      color=\"navy\",\n",
        "      linestyle=\":\",\n",
        "      linewidth=4,\n",
        "  )\n",
        "  ax.set(title='ROC curve for combined test set')\n",
        "  plt.xlabel(\"False Positive Rate\")\n",
        "  plt.ylabel(\"True Positive Rate\")\n",
        "  ax.legend([f\"macro-average ROC curve (AUC = {roc_auc['macro']:.3f})\"])\n",
        "  plt.show()\n"
      ],
      "id": "39b81a52"
    },
    {
      "cell_type": "markdown",
      "metadata": {
        "id": "93d885a7"
      },
      "source": [
        "## Classifier Implementation"
      ],
      "id": "93d885a7"
    },
    {
      "cell_type": "code",
      "execution_count": 15,
      "metadata": {
        "id": "678e19a3"
      },
      "outputs": [],
      "source": [
        "def call_classifier(clf_name, clf, X, Y, X_test1, Y_test1, X_test2, Y_test2, X_test3, Y_test3):\n",
        "  '''\n",
        "   Function takes training set and up to three test sets.\n",
        "   Trains model and calculates accuracy of model on test sets.\n",
        "   Plots a confusion matrix for each test set to visualize model performance.\n",
        "\n",
        "\n",
        "  if clf_name == 'Random Forest':\n",
        "    clf = RandomForestClassifier(n_estimators=128, max_depth=16)\n",
        "  elif clf_name == 'Decision Tree':\n",
        "    clf = DecisionTreeClassifier(max_depth=16)\n",
        "  elif clf_name == 'Logistic Regression':\n",
        "    clf = LogisticRegression(random_state=0, max_iter = 500)\n",
        "\n",
        "  clf = clf.fit(X, Y)\n",
        "  '''\n",
        "  y_pred_train = clf.predict(X)\n",
        "  y_pred1 = clf.predict(X_test1)\n",
        "  y_pred2 = clf.predict(X_test2)\n",
        "  y_pred3 = clf.predict(X_test3)\n",
        "\n",
        "  acc_train=metrics.accuracy_score(Y, y_pred_train)\n",
        "  acc_test1=metrics.accuracy_score(Y_test1, y_pred1)\n",
        "  acc_test2 = metrics.accuracy_score(Y_test2, y_pred2)\n",
        "  acc_test3 = metrics.accuracy_score(Y_test3, y_pred3)\n",
        "\n",
        "  print(clf_name, \": Accuracy on train {:.3}, solid {:.3}, metastatic {:.3} SRA {:.3}\".format(acc_train, acc_test1,\n",
        "                                                                                               acc_test2, acc_test3))\n",
        "\n",
        "  conf_matrix = confusion_matrix(Y_test1, y_pred1, labels=list(range(len(disease_labels))))\n",
        "  fig, ax = plt.subplots(figsize=(8,6), dpi=100)\n",
        "  display = ConfusionMatrixDisplay(conf_matrix,display_labels=disease_labels)\n",
        "  ax.set(title='Confusion Matrix on solid normal samples: ' + clf_name)\n",
        "  display.plot(ax=ax, xticks_rotation = 60)\n",
        "\n",
        "  conf_matrix = confusion_matrix(Y_test2, y_pred2, labels=list(range(len(disease_labels))))\n",
        "  fig, ax = plt.subplots(figsize=(8,6), dpi=100)\n",
        "  display = ConfusionMatrixDisplay(conf_matrix,display_labels=disease_labels)\n",
        "  ax.set(title='Confusion Matrix on metastatic samples: ' + clf_name)\n",
        "  display.plot(ax=ax, xticks_rotation = 60)\n",
        "\n",
        "  conf_matrix = confusion_matrix(Y_test3, y_pred3, labels=list(range(len(disease_labels))))\n",
        "  fig, ax = plt.subplots(figsize=(8,6), dpi=100)\n",
        "  display = ConfusionMatrixDisplay(conf_matrix,display_labels=disease_labels)\n",
        "  ax.set(title='Confusion Matrix on samples from SRA: ' + clf_name)\n",
        "  display.plot(ax=ax, xticks_rotation = 60)\n",
        "\n",
        "  return clf\n",
        "\n",
        "def train_best_classifier(clf_name, X, Y, X_valid, Y_valid):\n",
        "  max_acc_val = 0\n",
        "  if clf_name == \"Logistic Regression\":\n",
        "    clf = LogisticRegression(random_state=0, max_iter = 500)\n",
        "    clf = clf.fit(X,Y)\n",
        "    return clf, 0\n",
        "\n",
        "  for i in range(1, 20):\n",
        "    if clf_name == \"Decision Tree\":\n",
        "      clf = DecisionTreeClassifier(max_depth=i)\n",
        "    if clf_name == \"Random Forest\":\n",
        "      clf = RandomForestClassifier(n_estimators=128, max_depth=i)\n",
        "\n",
        "\n",
        "    clf = clf.fit(X, Y)\n",
        "    Y_pred_val = clf.predict(X_valid)\n",
        "    acc_on_val = metrics.accuracy_score(Y_pred_val, Y_valid)\n",
        "    print(\"accuracy with depth \", i, acc_on_val)\n",
        "    if acc_on_val>max_acc_val:\n",
        "      max_acc_val = acc_on_val\n",
        "      best_depth = i\n",
        "      best_classifier = clf\n",
        "\n",
        "\n",
        "\n",
        "  return best_classifier, best_depth\n"
      ],
      "id": "678e19a3"
    },
    {
      "cell_type": "markdown",
      "metadata": {
        "id": "773ab73c"
      },
      "source": [
        "Call classifier function on Decision Tree, Random Forest, and Logistic Regression to observe classifier performance."
      ],
      "id": "773ab73c"
    },
    {
      "cell_type": "code",
      "execution_count": null,
      "metadata": {
        "colab": {
          "base_uri": "https://localhost:8080/"
        },
        "id": "72ad5497",
        "outputId": "8c15df02-2f07-4bf7-9a17-b6f9f71f45e1"
      },
      "outputs": [
        {
          "output_type": "stream",
          "name": "stdout",
          "text": [
            "accuracy with depth  1 0.2521551724137931\n",
            "accuracy with depth  2 0.3706896551724138\n",
            "accuracy with depth  3 0.47737068965517243\n",
            "accuracy with depth  4 0.5280172413793104\n",
            "accuracy with depth  5 0.5980603448275862\n",
            "accuracy with depth  6 0.6411637931034483\n",
            "accuracy with depth  7 0.7047413793103449\n",
            "accuracy with depth  8 0.7338362068965517\n",
            "accuracy with depth  9 0.7941810344827587\n",
            "accuracy with depth  10 0.8178879310344828\n",
            "accuracy with depth  11 0.8232758620689655\n"
          ]
        }
      ],
      "source": [
        "best_decision_tree_clf, best_depth = train_best_classifier('Decision Tree', X, Y, X_valid, Y_valid)\n",
        "classifier = call_classifier(\"Decision Tree\", best_decision_tree_clf,\n",
        "X, Y, X_solid_tissue_normal, Y_solid_tissue_normal,\n",
        "                             X_metastatic, Y_metastatic, X_sra, Y_sra)\n",
        "\n"
      ],
      "id": "72ad5497"
    },
    {
      "cell_type": "code",
      "execution_count": null,
      "metadata": {
        "id": "a6c4c9c8"
      },
      "outputs": [],
      "source": [
        "best_random_forest_clf, best_depth = train_best_classifier('Random Forest', X, Y, X_valid, Y_valid)\n",
        "classifier = call_classifier(\"Random Forest\", best_random_forest_clf,\n",
        "X, Y, X_solid_tissue_normal, Y_solid_tissue_normal,\n",
        "                             X_metastatic, Y_metastatic, X_sra, Y_sra)\n",
        "\n",
        "\n"
      ],
      "id": "a6c4c9c8"
    },
    {
      "cell_type": "code",
      "execution_count": null,
      "metadata": {
        "id": "ef486f0c"
      },
      "outputs": [],
      "source": [
        "best_log_reg_clf, best_depth = train_best_classifier('Logistic Regression', X, Y, X_valid, Y_valid) #no hyperparameters to tune\n",
        "classifier = call_classifier(\"Logistic Regression\", best_random_forest_clf,\n",
        "X, Y, X_solid_tissue_normal, Y_solid_tissue_normal,\n",
        "                             X_metastatic, Y_metastatic, X_sra, Y_sra)"
      ],
      "id": "ef486f0c"
    },
    {
      "cell_type": "code",
      "execution_count": null,
      "metadata": {
        "id": "b6420154"
      },
      "outputs": [],
      "source": [
        "label_binarizer = LabelBinarizer().fit(Y)\n",
        "y_onehot_test = label_binarizer.transform(Y_metastatic)\n",
        "y_onehot_pred_test = classifier.predict_proba(X_metastatic)\n",
        "\n",
        "RocCurveDisplay.from_predictions(\n",
        "    y_onehot_test.ravel(),\n",
        "    y_onehot_pred_test.ravel(),\n",
        "    name=\"micro-average OvR\",\n",
        "    color=\"darkorange\",\n",
        "\n",
        ")\n",
        "plt.axis(\"square\")\n",
        "plt.xlabel(\"False Positive Rate\")\n",
        "plt.ylabel(\"True Positive Rate\")\n",
        "plt.title(\"ROC Curve on metastatic test set: Decision Tree\")\n",
        "plt.legend()\n",
        "plt.show()\n",
        "#visualize performance of model on solely metastatic skin cancer samples:\n",
        "#plot_roc_auc_for_class(y_onehot_test, y_onehot_pred_test, disease_labels, 13)\n",
        "\n",
        "#plot roc curve\n",
        "#plot_roc_curves(y_onehot_test, y_onehot_pred_test, disease_labels)"
      ],
      "id": "b6420154"
    },
    {
      "cell_type": "code",
      "source": [
        "label_binarizer = LabelBinarizer().fit(Y)\n",
        "y_onehot_test = label_binarizer.transform(Y_sra)\n",
        "y_onehot_pred_test = classifier.predict_proba(X_sra)\n",
        "\n",
        "RocCurveDisplay.from_predictions(\n",
        "    y_onehot_test.ravel(),\n",
        "    y_onehot_pred_test.ravel(),\n",
        "    name=\"micro-average OvR\",\n",
        "    color=\"darkorange\",\n",
        "\n",
        ")\n",
        "plt.axis(\"square\")\n",
        "plt.xlabel(\"False Positive Rate\")\n",
        "plt.ylabel(\"True Positive Rate\")\n",
        "plt.title(\"ROC Curve on SRA test set: Decision Tree\")\n",
        "plt.legend()\n",
        "plt.show()\n",
        "#visualize performance of model on solely metastatic skin cancer samples:\n",
        "#plot_roc_auc_for_class(y_onehot_test, y_onehot_pred_test, disease_labels, 13)\n",
        "\n",
        "#plot roc curve\n",
        "#plot_roc_curves(y_onehot_test, y_onehot_pred_test, disease_labels)"
      ],
      "metadata": {
        "id": "HycQEz19mNad"
      },
      "id": "HycQEz19mNad",
      "execution_count": null,
      "outputs": []
    },
    {
      "cell_type": "markdown",
      "metadata": {
        "id": "87bfaac4"
      },
      "source": [
        "## Permutation Feature Importance"
      ],
      "id": "87bfaac4"
    },
    {
      "cell_type": "code",
      "execution_count": null,
      "metadata": {
        "id": "cbc0a54d"
      },
      "outputs": [],
      "source": [
        "from sklearn.inspection import permutation_importance\n",
        "r = permutation_importance(classifier, X, Y,n_repeats=10, random_state=0)"
      ],
      "id": "cbc0a54d"
    },
    {
      "cell_type": "code",
      "execution_count": null,
      "metadata": {
        "id": "88d15032"
      },
      "outputs": [],
      "source": [
        "\n",
        "for i in r.importances_mean.argsort()[::-1]:\n",
        "    if r.importances_mean[i] - 2 * r.importances_std[i] > 0:\n",
        "       print(f\"{X.columns[i]:<8}  \"\n",
        "             f\"{r.importances_mean[i]:.3f}\"\n",
        "              f\" +/- {r.importances_std[i]:.3f}\")\n",
        "\n",
        "\n",
        "# Bar plot of importances\n",
        "import pandas as pd\n",
        "from matplotlib.pyplot import figure\n",
        "cmap = plt.get_cmap('viridis')\n",
        "colors = ['red','green','yellow'] #[cmap(i) for i in np.linspace(0, 1, len(X.columns))]\n",
        "feat_importances = pd.Series(r.importances_mean, index = X.columns).sort_values(ascending = False)\n",
        "feat_importances.nlargest(3).plot(kind = 'barh',color=colors)\n",
        "plt.xlabel('Importance')\n",
        "plt.ylabel('miRNA')\n"
      ],
      "id": "88d15032"
    },
    {
      "cell_type": "markdown",
      "metadata": {
        "id": "68b16e72"
      },
      "source": [
        "# Deep Learning Implementation"
      ],
      "id": "68b16e72"
    },
    {
      "cell_type": "code",
      "execution_count": null,
      "metadata": {
        "id": "267a3803"
      },
      "outputs": [],
      "source": [
        "\n",
        "def predict(model, X_test_tensor, y_test_tensor):\n",
        "  '''\n",
        "  This function returns performance of model on a given test set\n",
        "  '''\n",
        "\n",
        "  output = model(X_test_tensor)\n",
        "  output_idx = torch.argmax(output, dim=1)\n",
        "  prob = torch.nn.functional.softmax(output)\n",
        "  correct_cnt = torch.sum(output_idx==y_test_tensor)\n",
        "  accuracy = correct_cnt/y_test_tensor.size()[0]\n",
        "\n",
        "  return accuracy, output_idx, prob\n"
      ],
      "id": "267a3803"
    },
    {
      "cell_type": "code",
      "execution_count": null,
      "metadata": {
        "id": "260f5850"
      },
      "outputs": [],
      "source": [
        "#Creating class for the deep learning model\n",
        "class network(nn.Module):\n",
        "    def __init__(self,num_features, hidden, num_outputs, dropout):\n",
        "        super(network, self).__init__()\n",
        "        self.num_genes=num_features\n",
        "        self.dropout = nn.Dropout(p=dropout)\n",
        "        self.fc1 = nn.Linear(self.num_genes, 2*hidden)\n",
        "        self.fc2 = nn.Linear(2*hidden, hidden)\n",
        "\n",
        "\n",
        "\n",
        "    def forward(self, x):\n",
        "\n",
        "        y = self.dropout(x)\n",
        "        y = self.fc1(y)\n",
        "        y1= F.relu(y)\n",
        "        y1 = self.fc2(y1)\n",
        "        return y1\n",
        "\n"
      ],
      "id": "260f5850"
    },
    {
      "cell_type": "code",
      "execution_count": null,
      "metadata": {
        "id": "1d5c1531"
      },
      "outputs": [],
      "source": [
        "num_classes=len(disease_labels)\n",
        "numRNA=X.shape[1]\n",
        "dropout = 0.3\n",
        "print(\"NUM CLASSES\", num_classes)\n",
        "print(\"NUM RNA\", numRNA)\n",
        "model = network(numRNA, num_classes, num_classes,dropout)\n",
        "\n",
        "loss = nn.CrossEntropyLoss(reduction='none')\n",
        "optimizer = torch.optim.Adam(model.parameters(), lr=0.0005)\n",
        "\n",
        "\n",
        "#convert X_train, y_train, X_test, y_test to tensors\n",
        "X_train_tensor = torch.tensor(X.to_numpy(),dtype=torch.float32)\n",
        "y_train_tensor = torch.tensor(Y.to_numpy(),dtype=torch.long)\n",
        "X_valid_tensor = torch.tensor(X_valid.to_numpy(),dtype=torch.float32)\n",
        "y_valid_tensor = torch.tensor(Y_valid.to_numpy(),dtype=torch.long)\n",
        "X_sra_tensor = torch.tensor(X_sra.to_numpy(),dtype=torch.float32)\n",
        "y_sra_tensor = torch.tensor(Y_sra.to_numpy(),dtype=torch.long)\n",
        "\n",
        "X_solidnormal_tensor = torch.tensor(X_solid_tissue_normal.to_numpy(),dtype=torch.float32)\n",
        "y_solidnormal_tensor = torch.tensor(Y_solid_tissue_normal.to_numpy(), dtype=torch.long)\n",
        "\n",
        "X_metastatic_tensor = torch.tensor(X_metastatic.to_numpy(),dtype=torch.float32)\n",
        "y_metastatic_tensor = torch.tensor(Y_metastatic.to_numpy(), dtype=torch.long)\n",
        "\n",
        "\n",
        "#create lists to store the average losses over different epochs\n",
        "train_loss_per_epoch_lst = []\n",
        "\n",
        "acc_train_lst = []\n",
        "acc_solidnormal_lst = []\n",
        "acc_metastatic_lst = []\n",
        "\n",
        "max_acc_valid = -1000\n",
        "\n",
        "\n",
        "noise_scale = 0\n",
        "model.train()\n",
        "\n",
        "#TRAINING\n",
        "batch_size=32\n",
        "for k in range(0,10):\n",
        "  loss_lst = [] #stores average losses per batch\n",
        "  perm=torch.randperm(X_train_tensor.size()[0])\n",
        "  X_train_tensor=X_train_tensor[perm,:]\n",
        "  y_train_tensor=y_train_tensor[perm]\n",
        "  for i in range(X_train_tensor.size()[0]//batch_size):\n",
        "\n",
        "      batch_sample = X_train_tensor[batch_size*i:batch_size*(i+1),:]\n",
        "\n",
        "      noise_sample = torch.rand(batch_sample.size())-0.5\n",
        "      noise_sample = noise_sample*noise_scale # scaling the noise\n",
        "      batch_sample = batch_sample+noise_sample\n",
        "\n",
        "      batch_target = y_train_tensor[batch_size*i:batch_size*(i+1)]\n",
        "      output = model(batch_sample)\n",
        "\n",
        "      batch_loss = loss(output, batch_target)\n",
        "\n",
        "      #calculate mean loss over batch, add to loss list\n",
        "      l=torch.mean(batch_loss)\n",
        "      loss_lst.append(l.detach().item())\n",
        "\n",
        "      #back propagation - batch implementation is faster\n",
        "       #calculate loss at the end of a batch\n",
        "      l.backward()\n",
        "      #updates the weights\n",
        "      optimizer.step()\n",
        "      #clear gradients of optimizer\n",
        "      optimizer.zero_grad()\n",
        "\n",
        "  avg = sum(loss_lst)/len(loss_lst)\n",
        "  train_loss_per_epoch_lst.append(avg)\n",
        "\n",
        "  #calculate performance on test set\n",
        "  model.eval()\n",
        "  with torch.no_grad():\n",
        "    accuracy_valid,output_valid, _ = predict(model, X_valid_tensor, y_valid_tensor)\n",
        "    accuracy_train,output_train,_ = predict(model, X_train_tensor, y_train_tensor)\n",
        "    if max_acc_valid < accuracy_valid:\n",
        "      max_acc_valid = accuracy_valid\n",
        "\n",
        "      accuracy_solidnormal, output_solidnormal,_ = predict(model, X_solidnormal_tensor, y_solidnormal_tensor)\n",
        "      accuracy_metastatic, output_metastatic,_ = predict(model, X_metastatic_tensor, y_metastatic_tensor)\n",
        "      accuracy_sra, output_sra,_ = predict(model, X_sra_tensor, y_sra_tensor)\n",
        "\n",
        "  print(\"Epoch {:2} train {:.3} valid {:.3} solid {:.3} meta {:.3} sra {:.3}\".format(k, accuracy_train, accuracy_valid,\n",
        "                                                                                          accuracy_solidnormal,\n",
        "                                                                                          accuracy_metastatic, accuracy_sra))\n",
        "\n",
        "\n",
        "  acc_solidnormal_lst.append(accuracy_solidnormal)\n",
        "  acc_metastatic_lst.append(accuracy_metastatic)\n",
        "  acc_train_lst.append(accuracy_train)\n",
        "  model.train()\n",
        "\n",
        "\n",
        "\n",
        "\n",
        "print(' accuracy on solid tissue set', accuracy_solidnormal)\n",
        "print(' accuracy on metastatic set', accuracy_metastatic)\n",
        "print(' accuracy on sra set', accuracy_sra)\n",
        "print(' max validation accuracy ', max_acc_valid)"
      ],
      "id": "1d5c1531"
    },
    {
      "cell_type": "markdown",
      "metadata": {
        "id": "eefbd106"
      },
      "source": [
        "\n",
        "\n",
        "\n",
        "\n",
        "\n",
        "\n",
        "\n",
        "\n",
        "Creating a confusion matrix for deep learning model"
      ],
      "id": "eefbd106"
    },
    {
      "cell_type": "code",
      "execution_count": null,
      "metadata": {
        "id": "27a7c7c1"
      },
      "outputs": [],
      "source": [
        "import matplotlib.pyplot as plt\n",
        "from sklearn.metrics import confusion_matrix\n",
        "conf_matrix = confusion_matrix(y_metastatic_tensor, output_metastatic,labels=list(range(len(disease_labels))))\n",
        "fig, ax = plt.subplots(figsize=(8,6), dpi=100)\n",
        "display = ConfusionMatrixDisplay(conf_matrix,display_labels=disease_labels)\n",
        "ax.set(title='Confusion Matrix on metastatic samples: Deep Learning')\n",
        "display.plot(ax=ax, xticks_rotation = 60)\n",
        "\n",
        "conf_matrix = confusion_matrix(y_sra_tensor, output_sra, labels=list(range(len(disease_labels))))\n",
        "fig, ax = plt.subplots(figsize=(8,6), dpi=100)\n",
        "display = ConfusionMatrixDisplay(conf_matrix,display_labels=disease_labels)\n",
        "ax.set(title='Confusion Matrix on samples from SRA: Deep Learning')\n",
        "display.plot(ax=ax, xticks_rotation = 60)"
      ],
      "id": "27a7c7c1"
    },
    {
      "cell_type": "markdown",
      "metadata": {
        "id": "0e4436ab"
      },
      "source": [
        "Create ROC curves for performance on SRA test set"
      ],
      "id": "0e4436ab"
    },
    {
      "cell_type": "code",
      "execution_count": null,
      "metadata": {
        "id": "020192c5"
      },
      "outputs": [],
      "source": [
        "y_onehot_test = label_binarizer.transform(Y_sra)\n",
        "_,_,y_onehot_pred_test = predict(model, X_sra_tensor , y_sra_tensor)\n",
        "RocCurveDisplay.from_predictions(\n",
        "    y_onehot_test.ravel(),\n",
        "    y_onehot_pred_test.detach().numpy().ravel(),\n",
        "    name=\"micro-average OvR\",\n",
        "    color=\"darkorange\",\n",
        "\n",
        ")\n",
        "plt.axis(\"square\")\n",
        "plt.xlabel(\"False Positive Rate\")\n",
        "plt.ylabel(\"True Positive Rate\")\n",
        "plt.title(\"ROC Curve on SRA test set: Deep Learning\")\n",
        "plt.legend()\n",
        "plt.show()"
      ],
      "id": "020192c5"
    },
    {
      "cell_type": "markdown",
      "source": [
        "Create ROC curves for performance on metastatic test set"
      ],
      "metadata": {
        "id": "xKLIszU-jpaZ"
      },
      "id": "xKLIszU-jpaZ"
    },
    {
      "cell_type": "code",
      "source": [
        "y_onehot_test = label_binarizer.transform(Y_metastatic)\n",
        "_,_,y_onehot_pred_test = predict(model, X_metastatic_tensor , y_metastatic_tensor)\n",
        "RocCurveDisplay.from_predictions(\n",
        "    y_onehot_test.ravel(),\n",
        "    y_onehot_pred_test.detach().numpy().ravel(),\n",
        "    name=\"micro-average OvR\",\n",
        "    color=\"darkorange\",\n",
        "\n",
        ")\n",
        "plt.axis(\"square\")\n",
        "plt.xlabel(\"False Positive Rate\")\n",
        "plt.ylabel(\"True Positive Rate\")\n",
        "plt.title(\"ROC Curve on metastatic test set: Deep Learning\")\n",
        "plt.legend()\n",
        "plt.show()"
      ],
      "metadata": {
        "id": "1JVUhPncjr07"
      },
      "id": "1JVUhPncjr07",
      "execution_count": null,
      "outputs": []
    }
  ],
  "metadata": {
    "colab": {
      "provenance": []
    },
    "kernelspec": {
      "display_name": "Python 3 (ipykernel)",
      "language": "python",
      "name": "python3"
    },
    "language_info": {
      "codemirror_mode": {
        "name": "ipython",
        "version": 3
      },
      "file_extension": ".py",
      "mimetype": "text/x-python",
      "name": "python",
      "nbconvert_exporter": "python",
      "pygments_lexer": "ipython3",
      "version": "3.11.4"
    }
  },
  "nbformat": 4,
  "nbformat_minor": 5
}
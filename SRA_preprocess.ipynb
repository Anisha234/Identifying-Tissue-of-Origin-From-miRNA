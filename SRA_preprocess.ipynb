{
  "cells": [
    {
      "cell_type": "markdown",
      "metadata": {
        "id": "view-in-github",
        "colab_type": "text"
      },
      "source": [
        "<a href=\"https://colab.research.google.com/github/Anisha234/Identifying-Tissue-of-Origin-From-miRNA/blob/main/SRA_preprocess.ipynb\" target=\"_parent\"><img src=\"https://colab.research.google.com/assets/colab-badge.svg\" alt=\"Open In Colab\"/></a>"
      ]
    },
    {
      "cell_type": "code",
      "execution_count": 35,
      "id": "b8f7a28d",
      "metadata": {
        "id": "b8f7a28d"
      },
      "outputs": [],
      "source": [
        "# Notebook to pre-process miRNA data from blood from the eVmiRNA database\n",
        "import pandas as pd\n",
        "import numpy as np\n",
        "import os\n",
        "import sys"
      ]
    },
    {
      "cell_type": "code",
      "execution_count": 39,
      "id": "7ec2eca4",
      "metadata": {
        "colab": {
          "base_uri": "https://localhost:8080/"
        },
        "id": "7ec2eca4",
        "outputId": "756d2e4e-0f38-4cbf-98a7-ec9951e58d6e"
      },
      "outputs": [
        {
          "output_type": "stream",
          "name": "stderr",
          "text": [
            "<ipython-input-39-0e377be59f6f>:2: DtypeWarning: Columns (564) have mixed types. Specify dtype option on import or set low_memory=False.\n",
            "  df_ref_data = pd.read_csv('/content/full_miRNA_metadata_dataset_unnorm.csv')\n"
          ]
        }
      ],
      "source": [
        "df = pd.read_csv('/content/miTED-results_long.tsv',delimiter='\\t')\n",
        "df_ref_data = pd.read_csv('/content/full_miRNA_metadata_dataset_unnorm.csv')"
      ]
    },
    {
      "cell_type": "code",
      "execution_count": 40,
      "id": "40ec47c4",
      "metadata": {
        "colab": {
          "base_uri": "https://localhost:8080/"
        },
        "id": "40ec47c4",
        "outputId": "e913d547-bd8c-476d-d195-c967287aafe6"
      },
      "outputs": [
        {
          "output_type": "stream",
          "name": "stdout",
          "text": [
            "(207, 2668)\n",
            "Index(['disease_type', 'hsa-let-7a-2-3p', 'hsa-let-7a-3p', 'hsa-let-7a-5p',\n",
            "       'hsa-let-7b-3p', 'hsa-let-7b-5p', 'hsa-let-7c-3p', 'hsa-let-7c-5p',\n",
            "       'hsa-let-7d-3p', 'hsa-let-7d-5p',\n",
            "       ...\n",
            "       'hsa-miR-9901', 'hsa-miR-9902', 'hsa-miR-9903', 'hsa-miR-9983-3p',\n",
            "       'hsa-miR-9985', 'hsa-miR-9986', 'hsa-miR-99a-3p', 'hsa-miR-99a-5p',\n",
            "       'hsa-miR-99b-3p', 'hsa-miR-99b-5p'],\n",
            "      dtype='object', length=2657)\n"
          ]
        }
      ],
      "source": [
        "print(df.shape)\n",
        "df=df.drop(columns=['S.No', 'Sample_ID', 'Collection', 'Project_ID', 'Tissue_subregion', 'Cell_Line', 'Organism', 'Health_state', 'Tissue_definition','Disease','Gender'])\n",
        "df.replace('male', 1, inplace=True)\n",
        "df.replace('female', 0, inplace=True)\n",
        "df.rename(columns={'Tissue_or_organ_of_origin':'disease_type', 'Gender':'gender'}, inplace=True)\n",
        "\n",
        "disease_labels=[\"Breast\", \"Uterus\", \"Ovary\", \"Prostate\", \"Testis\" ,\"Lung\", \"Kidney\",\"Bladder\",\"Esophagus\", \"Liver\",\"Pancreas\",\"Pleura\",\"Colon\", \"Skin\", \"Stomach\",\n",
        "                 \"Brain\", \"Cervix\", \"Thyroid\"]\n",
        "df=df.loc[df['disease_type'].isin(disease_labels)]\n",
        "\n",
        "df.replace(disease_labels,list(range(len(disease_labels))),\n",
        "              inplace=True)\n",
        "\n",
        "\n",
        "df=df.reset_index(drop=True)\n",
        "df.rename(columns={'Tissue_or_organ_of_origin':'disease_type', 'Gender':'gender'}, inplace=True)\n",
        "print(df.columns)\n",
        "df_feat=df"
      ]
    },
    {
      "cell_type": "code",
      "execution_count": 41,
      "id": "bd10b2fd",
      "metadata": {
        "colab": {
          "base_uri": "https://localhost:8080/"
        },
        "id": "bd10b2fd",
        "outputId": "977a9c4d-f225-494e-ed33-e9cc4d014a7d"
      },
      "outputs": [
        {
          "output_type": "stream",
          "name": "stdout",
          "text": [
            "567 2657\n",
            "Before 2657\n",
            "After 1793\n"
          ]
        }
      ],
      "source": [
        "feat_ref = set(df_ref_data.columns)\n",
        "feat_SRA =list(df_feat.columns)\n",
        "print(len(feat_ref), len(feat_SRA))\n",
        "\n",
        "# Replace miR with mir\n",
        "feat_clean = feat_SRA\n",
        "feat_to_remove=[]\n",
        "mapping_dict={}\n",
        "for i,element in enumerate(feat_SRA):\n",
        "    orig_element = element\n",
        "    element= element.replace(\"miR\", \"mir\")\n",
        "    element= element.replace('-3p', \"\")\n",
        "    element= element.replace('-5p', \"\")\n",
        "    feat_clean[i] = element\n",
        "    if element not in feat_ref:\n",
        "        feat_to_remove.append(orig_element)\n",
        "    else:\n",
        "        mapping_dict[orig_element] = element\n",
        "\n",
        "print('Before',len(feat_clean))\n",
        "feat_clean = set(feat_clean)\n",
        "print('After', len(feat_clean))\n",
        "#print(feat_clean, len(feat_clean))\n",
        "#print(mapping_dict)"
      ]
    },
    {
      "cell_type": "code",
      "execution_count": 42,
      "id": "9fd88501",
      "metadata": {
        "colab": {
          "base_uri": "https://localhost:8080/"
        },
        "id": "9fd88501",
        "outputId": "dc7cf7b4-260b-4895-cb14-e95be5b39f1a"
      },
      "outputs": [
        {
          "output_type": "stream",
          "name": "stdout",
          "text": [
            "498\n"
          ]
        }
      ],
      "source": [
        "common_feat= feat_clean.intersection(feat_ref)\n",
        "print(len(common_feat))\n"
      ]
    },
    {
      "cell_type": "code",
      "execution_count": 43,
      "id": "18215075",
      "metadata": {
        "colab": {
          "base_uri": "https://localhost:8080/"
        },
        "id": "18215075",
        "outputId": "a8c18349-8ffa-4af9-ea04-1e4a7373aa26"
      },
      "outputs": [
        {
          "output_type": "stream",
          "name": "stdout",
          "text": [
            "Rename dict 498\n",
            "{'disease_type': 'disease_type', 'hsa-let-7a-2-3p': 'hsa-let-7a-2', 'hsa-let-7b-3p': 'hsa-let-7b', 'hsa-let-7c-3p': 'hsa-let-7c', 'hsa-let-7d-3p': 'hsa-let-7d', 'hsa-let-7e-3p': 'hsa-let-7e', 'hsa-let-7f-1-3p': 'hsa-let-7f-1', 'hsa-let-7f-2-3p': 'hsa-let-7f-2', 'hsa-let-7g-3p': 'hsa-let-7g', 'hsa-let-7i-3p': 'hsa-let-7i', 'hsa-miR-100-3p': 'hsa-mir-100', 'hsa-miR-101-2-5p': 'hsa-mir-101-2', 'hsa-miR-103a-1-5p': 'hsa-mir-103a-1', 'hsa-miR-103a-2-5p': 'hsa-mir-103a-2', 'hsa-miR-106a-3p': 'hsa-mir-106a', 'hsa-miR-106b-3p': 'hsa-mir-106b', 'hsa-miR-107': 'hsa-mir-107', 'hsa-miR-10a-3p': 'hsa-mir-10a', 'hsa-miR-10b-3p': 'hsa-mir-10b', 'hsa-miR-1180-3p': 'hsa-mir-1180', 'hsa-miR-1181': 'hsa-mir-1181', 'hsa-miR-1224-3p': 'hsa-mir-1224', 'hsa-miR-1226-3p': 'hsa-mir-1226', 'hsa-miR-1228-3p': 'hsa-mir-1228', 'hsa-miR-1229-3p': 'hsa-mir-1229', 'hsa-miR-1245a': 'hsa-mir-1245a', 'hsa-miR-1247-3p': 'hsa-mir-1247', 'hsa-miR-1248': 'hsa-mir-1248', 'hsa-miR-1249-3p': 'hsa-mir-1249', 'hsa-miR-1251-3p': 'hsa-mir-1251', 'hsa-miR-1255a': 'hsa-mir-1255a', 'hsa-miR-1258': 'hsa-mir-1258', 'hsa-miR-125a-3p': 'hsa-mir-125a', 'hsa-miR-125b-1-3p': 'hsa-mir-125b-1', 'hsa-miR-125b-2-3p': 'hsa-mir-125b-2', 'hsa-miR-126-3p': 'hsa-mir-126', 'hsa-miR-1262': 'hsa-mir-1262', 'hsa-miR-1266-3p': 'hsa-mir-1266', 'hsa-miR-1269a': 'hsa-mir-1269a', 'hsa-miR-127-3p': 'hsa-mir-127', 'hsa-miR-1270': 'hsa-mir-1270', 'hsa-miR-1271-3p': 'hsa-mir-1271', 'hsa-miR-1275': 'hsa-mir-1275', 'hsa-miR-1277-3p': 'hsa-mir-1277', 'hsa-miR-128-1-5p': 'hsa-mir-128-1', 'hsa-miR-128-2-5p': 'hsa-mir-128-2', 'hsa-miR-1284': 'hsa-mir-1284', 'hsa-miR-1287-3p': 'hsa-mir-1287', 'hsa-miR-1288-3p': 'hsa-mir-1288', 'hsa-miR-129-1-3p': 'hsa-mir-129-1', 'hsa-miR-129-2-3p': 'hsa-mir-129-2', 'hsa-miR-1291': 'hsa-mir-1291', 'hsa-miR-1292-3p': 'hsa-mir-1292', 'hsa-miR-1294': 'hsa-mir-1294', 'hsa-miR-1295a': 'hsa-mir-1295a', 'hsa-miR-1296-3p': 'hsa-mir-1296', 'hsa-miR-1301-3p': 'hsa-mir-1301', 'hsa-miR-1304-3p': 'hsa-mir-1304', 'hsa-miR-1306-3p': 'hsa-mir-1306', 'hsa-miR-1307-3p': 'hsa-mir-1307', 'hsa-miR-130a-3p': 'hsa-mir-130a', 'hsa-miR-130b-3p': 'hsa-mir-130b', 'hsa-miR-132-3p': 'hsa-mir-132', 'hsa-miR-133b': 'hsa-mir-133b', 'hsa-miR-134-3p': 'hsa-mir-134', 'hsa-miR-1343-3p': 'hsa-mir-1343', 'hsa-miR-135a-2-3p': 'hsa-mir-135a-2', 'hsa-miR-135b-3p': 'hsa-mir-135b', 'hsa-miR-136-3p': 'hsa-mir-136', 'hsa-miR-138-1-3p': 'hsa-mir-138-1', 'hsa-miR-138-2-3p': 'hsa-mir-138-2', 'hsa-miR-139-3p': 'hsa-mir-139', 'hsa-miR-140-3p': 'hsa-mir-140', 'hsa-miR-141-3p': 'hsa-mir-141', 'hsa-miR-142-3p': 'hsa-mir-142', 'hsa-miR-143-3p': 'hsa-mir-143', 'hsa-miR-144-3p': 'hsa-mir-144', 'hsa-miR-145-3p': 'hsa-mir-145', 'hsa-miR-1468-3p': 'hsa-mir-1468', 'hsa-miR-146a-3p': 'hsa-mir-146a', 'hsa-miR-146b-3p': 'hsa-mir-146b', 'hsa-miR-147b-3p': 'hsa-mir-147b', 'hsa-miR-148a-3p': 'hsa-mir-148a', 'hsa-miR-148b-3p': 'hsa-mir-148b', 'hsa-miR-149-3p': 'hsa-mir-149', 'hsa-miR-150-3p': 'hsa-mir-150', 'hsa-miR-151a-3p': 'hsa-mir-151a', 'hsa-miR-151b': 'hsa-mir-151b', 'hsa-miR-152-3p': 'hsa-mir-152', 'hsa-miR-1538': 'hsa-mir-1538', 'hsa-miR-154-3p': 'hsa-mir-154', 'hsa-miR-155-3p': 'hsa-mir-155', 'hsa-miR-15a-3p': 'hsa-mir-15a', 'hsa-miR-15b-3p': 'hsa-mir-15b', 'hsa-miR-16-1-3p': 'hsa-mir-16-1', 'hsa-miR-16-2-3p': 'hsa-mir-16-2', 'hsa-miR-17-3p': 'hsa-mir-17', 'hsa-miR-181a-2-3p': 'hsa-mir-181a-2', 'hsa-miR-181b-2-3p': 'hsa-mir-181b-2', 'hsa-miR-181c-3p': 'hsa-mir-181c', 'hsa-miR-181d-3p': 'hsa-mir-181d', 'hsa-miR-182-3p': 'hsa-mir-182', 'hsa-miR-183-3p': 'hsa-mir-183', 'hsa-miR-184': 'hsa-mir-184', 'hsa-miR-185-3p': 'hsa-mir-185', 'hsa-miR-186-3p': 'hsa-mir-186', 'hsa-miR-187-3p': 'hsa-mir-187', 'hsa-miR-188-3p': 'hsa-mir-188', 'hsa-miR-18a-3p': 'hsa-mir-18a', 'hsa-miR-18b-3p': 'hsa-mir-18b', 'hsa-miR-190a-3p': 'hsa-mir-190a', 'hsa-miR-190b-3p': 'hsa-mir-190b', 'hsa-miR-191-3p': 'hsa-mir-191', 'hsa-miR-192-3p': 'hsa-mir-192', 'hsa-miR-193a-3p': 'hsa-mir-193a', 'hsa-miR-193b-3p': 'hsa-mir-193b', 'hsa-miR-195-3p': 'hsa-mir-195', 'hsa-miR-196a-1-3p': 'hsa-mir-196a-1', 'hsa-miR-196b-3p': 'hsa-mir-196b', 'hsa-miR-197-3p': 'hsa-mir-197', 'hsa-miR-1976': 'hsa-mir-1976', 'hsa-miR-199b-3p': 'hsa-mir-199b', 'hsa-miR-19a-3p': 'hsa-mir-19a', 'hsa-miR-19b-1-5p': 'hsa-mir-19b-1', 'hsa-miR-19b-2-5p': 'hsa-mir-19b-2', 'hsa-miR-200a-3p': 'hsa-mir-200a', 'hsa-miR-200b-3p': 'hsa-mir-200b', 'hsa-miR-200c-3p': 'hsa-mir-200c', 'hsa-miR-202-3p': 'hsa-mir-202', 'hsa-miR-203a-3p': 'hsa-mir-203a', 'hsa-miR-203b-3p': 'hsa-mir-203b', 'hsa-miR-204-3p': 'hsa-mir-204', 'hsa-miR-205-3p': 'hsa-mir-205', 'hsa-miR-206': 'hsa-mir-206', 'hsa-miR-20a-3p': 'hsa-mir-20a', 'hsa-miR-20b-3p': 'hsa-mir-20b', 'hsa-miR-21-3p': 'hsa-mir-21', 'hsa-miR-210-3p': 'hsa-mir-210', 'hsa-miR-2110': 'hsa-mir-2110', 'hsa-miR-2114-3p': 'hsa-mir-2114', 'hsa-miR-2116-3p': 'hsa-mir-2116', 'hsa-miR-212-3p': 'hsa-mir-212', 'hsa-miR-214-3p': 'hsa-mir-214', 'hsa-miR-215-3p': 'hsa-mir-215', 'hsa-miR-216a-3p': 'hsa-mir-216a', 'hsa-miR-217-3p': 'hsa-mir-217', 'hsa-miR-218-1-3p': 'hsa-mir-218-1', 'hsa-miR-218-2-3p': 'hsa-mir-218-2', 'hsa-miR-219a-1-3p': 'hsa-mir-219a-1', 'hsa-miR-219b-3p': 'hsa-mir-219b', 'hsa-miR-22-3p': 'hsa-mir-22', 'hsa-miR-221-3p': 'hsa-mir-221', 'hsa-miR-222-3p': 'hsa-mir-222', 'hsa-miR-223-3p': 'hsa-mir-223', 'hsa-miR-224-3p': 'hsa-mir-224', 'hsa-miR-2277-3p': 'hsa-mir-2277', 'hsa-miR-2355-3p': 'hsa-mir-2355', 'hsa-miR-23a-3p': 'hsa-mir-23a', 'hsa-miR-23b-3p': 'hsa-mir-23b', 'hsa-miR-24-1-5p': 'hsa-mir-24-1', 'hsa-miR-24-2-5p': 'hsa-mir-24-2', 'hsa-miR-25-3p': 'hsa-mir-25', 'hsa-miR-26a-1-3p': 'hsa-mir-26a-1', 'hsa-miR-26a-2-3p': 'hsa-mir-26a-2', 'hsa-miR-26b-3p': 'hsa-mir-26b', 'hsa-miR-27a-3p': 'hsa-mir-27a', 'hsa-miR-27b-3p': 'hsa-mir-27b', 'hsa-miR-28-3p': 'hsa-mir-28', 'hsa-miR-296-3p': 'hsa-mir-296', 'hsa-miR-299-3p': 'hsa-mir-299', 'hsa-miR-29a-3p': 'hsa-mir-29a', 'hsa-miR-29b-1-5p': 'hsa-mir-29b-1', 'hsa-miR-29b-2-5p': 'hsa-mir-29b-2', 'hsa-miR-29c-3p': 'hsa-mir-29c', 'hsa-miR-301a-3p': 'hsa-mir-301a', 'hsa-miR-301b-3p': 'hsa-mir-301b', 'hsa-miR-3064-3p': 'hsa-mir-3064', 'hsa-miR-3065-3p': 'hsa-mir-3065', 'hsa-miR-3074-3p': 'hsa-mir-3074', 'hsa-miR-30a-3p': 'hsa-mir-30a', 'hsa-miR-30b-3p': 'hsa-mir-30b', 'hsa-miR-30c-1-3p': 'hsa-mir-30c-1', 'hsa-miR-30c-2-3p': 'hsa-mir-30c-2', 'hsa-miR-30d-3p': 'hsa-mir-30d', 'hsa-miR-30e-3p': 'hsa-mir-30e', 'hsa-miR-31-3p': 'hsa-mir-31', 'hsa-miR-3117-3p': 'hsa-mir-3117', 'hsa-miR-3127-3p': 'hsa-mir-3127', 'hsa-miR-3129-3p': 'hsa-mir-3129', 'hsa-miR-3136-3p': 'hsa-mir-3136', 'hsa-miR-3150b-3p': 'hsa-mir-3150b', 'hsa-miR-3157-3p': 'hsa-mir-3157', 'hsa-miR-3170': 'hsa-mir-3170', 'hsa-miR-3173-3p': 'hsa-mir-3173', 'hsa-miR-3187-3p': 'hsa-mir-3187', 'hsa-miR-3191-3p': 'hsa-mir-3191', 'hsa-miR-3193': 'hsa-mir-3193', 'hsa-miR-3194-3p': 'hsa-mir-3194', 'hsa-miR-32-3p': 'hsa-mir-32', 'hsa-miR-3200-3p': 'hsa-mir-3200', 'hsa-miR-320a-3p': 'hsa-mir-320a', 'hsa-miR-323a-3p': 'hsa-mir-323a', 'hsa-miR-323b-3p': 'hsa-mir-323b', 'hsa-miR-324-3p': 'hsa-mir-324', 'hsa-miR-326': 'hsa-mir-326', 'hsa-miR-328-3p': 'hsa-mir-328', 'hsa-miR-330-3p': 'hsa-mir-330', 'hsa-miR-331-3p': 'hsa-mir-331', 'hsa-miR-335-3p': 'hsa-mir-335', 'hsa-miR-337-3p': 'hsa-mir-337', 'hsa-miR-338-3p': 'hsa-mir-338', 'hsa-miR-339-3p': 'hsa-mir-339', 'hsa-miR-33a-3p': 'hsa-mir-33a', 'hsa-miR-33b-3p': 'hsa-mir-33b', 'hsa-miR-340-3p': 'hsa-mir-340', 'hsa-miR-342-3p': 'hsa-mir-342', 'hsa-miR-345-3p': 'hsa-mir-345', 'hsa-miR-34a-3p': 'hsa-mir-34a', 'hsa-miR-34b-3p': 'hsa-mir-34b', 'hsa-miR-34c-3p': 'hsa-mir-34c', 'hsa-miR-3605-3p': 'hsa-mir-3605', 'hsa-miR-3609': 'hsa-mir-3609', 'hsa-miR-361-3p': 'hsa-mir-361', 'hsa-miR-3610': 'hsa-mir-3610', 'hsa-miR-3613-3p': 'hsa-mir-3613', 'hsa-miR-3614-3p': 'hsa-mir-3614', 'hsa-miR-3615': 'hsa-mir-3615', 'hsa-miR-3619-3p': 'hsa-mir-3619', 'hsa-miR-362-3p': 'hsa-mir-362', 'hsa-miR-363-3p': 'hsa-mir-363', 'hsa-miR-3651': 'hsa-mir-3651', 'hsa-miR-3652': 'hsa-mir-3652', 'hsa-miR-365a-3p': 'hsa-mir-365a', 'hsa-miR-365b-3p': 'hsa-mir-365b', 'hsa-miR-3662': 'hsa-mir-3662', 'hsa-miR-3664-3p': 'hsa-mir-3664', 'hsa-miR-3677-3p': 'hsa-mir-3677', 'hsa-miR-3678-3p': 'hsa-mir-3678', 'hsa-miR-3682-3p': 'hsa-mir-3682', 'hsa-miR-3684': 'hsa-mir-3684', 'hsa-miR-369-3p': 'hsa-mir-369', 'hsa-miR-3691-3p': 'hsa-mir-3691', 'hsa-miR-370-3p': 'hsa-mir-370', 'hsa-miR-374a-3p': 'hsa-mir-374a', 'hsa-miR-374b-3p': 'hsa-mir-374b', 'hsa-miR-375-3p': 'hsa-mir-375', 'hsa-miR-376a-2-5p': 'hsa-mir-376a-2', 'hsa-miR-376b-3p': 'hsa-mir-376b', 'hsa-miR-376c-3p': 'hsa-mir-376c', 'hsa-miR-377-3p': 'hsa-mir-377', 'hsa-miR-378a-3p': 'hsa-mir-378a', 'hsa-miR-378c': 'hsa-mir-378c', 'hsa-miR-379-3p': 'hsa-mir-379', 'hsa-miR-380-3p': 'hsa-mir-380', 'hsa-miR-381-3p': 'hsa-mir-381', 'hsa-miR-382-3p': 'hsa-mir-382', 'hsa-miR-3909': 'hsa-mir-3909', 'hsa-miR-3912-3p': 'hsa-mir-3912', 'hsa-miR-3917': 'hsa-mir-3917', 'hsa-miR-3922-3p': 'hsa-mir-3922', 'hsa-miR-3928-3p': 'hsa-mir-3928', 'hsa-miR-3934-3p': 'hsa-mir-3934', 'hsa-miR-3940-3p': 'hsa-mir-3940', 'hsa-miR-3941': 'hsa-mir-3941', 'hsa-miR-3942-3p': 'hsa-mir-3942', 'hsa-miR-3944-3p': 'hsa-mir-3944', 'hsa-miR-409-3p': 'hsa-mir-409', 'hsa-miR-410-3p': 'hsa-mir-410', 'hsa-miR-411-3p': 'hsa-mir-411', 'hsa-miR-412-3p': 'hsa-mir-412', 'hsa-miR-421': 'hsa-mir-421', 'hsa-miR-423-3p': 'hsa-mir-423', 'hsa-miR-424-3p': 'hsa-mir-424', 'hsa-miR-425-3p': 'hsa-mir-425', 'hsa-miR-429': 'hsa-mir-429', 'hsa-miR-431-3p': 'hsa-mir-431', 'hsa-miR-432-3p': 'hsa-mir-432', 'hsa-miR-4326': 'hsa-mir-4326', 'hsa-miR-433-3p': 'hsa-mir-433', 'hsa-miR-4423-3p': 'hsa-mir-4423', 'hsa-miR-4442': 'hsa-mir-4442', 'hsa-miR-4443': 'hsa-mir-4443', 'hsa-miR-4449': 'hsa-mir-4449', 'hsa-miR-4473': 'hsa-mir-4473', 'hsa-miR-449a': 'hsa-mir-449a', 'hsa-miR-450a-1-3p': 'hsa-mir-450a-1', 'hsa-miR-450a-2-3p': 'hsa-mir-450a-2', 'hsa-miR-450b-3p': 'hsa-mir-450b', 'hsa-miR-451a': 'hsa-mir-451a', 'hsa-miR-452-3p': 'hsa-mir-452', 'hsa-miR-4521': 'hsa-mir-4521', 'hsa-miR-454-3p': 'hsa-mir-454', 'hsa-miR-455-3p': 'hsa-mir-455', 'hsa-miR-4636': 'hsa-mir-4636', 'hsa-miR-4638-3p': 'hsa-mir-4638', 'hsa-miR-4640-3p': 'hsa-mir-4640', 'hsa-miR-4645-3p': 'hsa-mir-4645', 'hsa-miR-4660': 'hsa-mir-4660', 'hsa-miR-4661-3p': 'hsa-mir-4661', 'hsa-miR-4662a-3p': 'hsa-mir-4662a', 'hsa-miR-4664-3p': 'hsa-mir-4664', 'hsa-miR-4668-3p': 'hsa-mir-4668', 'hsa-miR-4676-3p': 'hsa-mir-4676', 'hsa-miR-4677-3p': 'hsa-mir-4677', 'hsa-miR-4685-3p': 'hsa-mir-4685', 'hsa-miR-4707-3p': 'hsa-mir-4707', 'hsa-miR-4709-3p': 'hsa-mir-4709', 'hsa-miR-4714-3p': 'hsa-mir-4714', 'hsa-miR-4724-3p': 'hsa-mir-4724', 'hsa-miR-4728-3p': 'hsa-mir-4728', 'hsa-miR-4732-3p': 'hsa-mir-4732', 'hsa-miR-4742-3p': 'hsa-mir-4742', 'hsa-miR-4746-3p': 'hsa-mir-4746', 'hsa-miR-4762-3p': 'hsa-mir-4762', 'hsa-miR-4766-3p': 'hsa-mir-4766', 'hsa-miR-4772-3p': 'hsa-mir-4772', 'hsa-miR-4781-3p': 'hsa-mir-4781', 'hsa-miR-4784': 'hsa-mir-4784', 'hsa-miR-4786-3p': 'hsa-mir-4786', 'hsa-miR-4787-3p': 'hsa-mir-4787', 'hsa-miR-4791': 'hsa-mir-4791', 'hsa-miR-4797-3p': 'hsa-mir-4797', 'hsa-miR-483-3p': 'hsa-mir-483', 'hsa-miR-484': 'hsa-mir-484', 'hsa-miR-485-3p': 'hsa-mir-485', 'hsa-miR-487a-3p': 'hsa-mir-487a', 'hsa-miR-487b-3p': 'hsa-mir-487b', 'hsa-miR-489-3p': 'hsa-mir-489', 'hsa-miR-491-3p': 'hsa-mir-491', 'hsa-miR-493-3p': 'hsa-mir-493', 'hsa-miR-494-3p': 'hsa-mir-494', 'hsa-miR-495-3p': 'hsa-mir-495', 'hsa-miR-496': 'hsa-mir-496', 'hsa-miR-497-3p': 'hsa-mir-497', 'hsa-miR-4999-3p': 'hsa-mir-4999', 'hsa-miR-499a-3p': 'hsa-mir-499a', 'hsa-miR-5000-3p': 'hsa-mir-5000', 'hsa-miR-5001-3p': 'hsa-mir-5001', 'hsa-miR-5003-3p': 'hsa-mir-5003', 'hsa-miR-500a-3p': 'hsa-mir-500a', 'hsa-miR-500b-3p': 'hsa-mir-500b', 'hsa-miR-501-3p': 'hsa-mir-501', 'hsa-miR-5010-3p': 'hsa-mir-5010', 'hsa-miR-502-3p': 'hsa-mir-502', 'hsa-miR-503-3p': 'hsa-mir-503', 'hsa-miR-504-3p': 'hsa-mir-504', 'hsa-miR-505-3p': 'hsa-mir-505', 'hsa-miR-508-3p': 'hsa-mir-508', 'hsa-miR-509-3-5p': 'hsa-mir-509-3', 'hsa-miR-5091': 'hsa-mir-5091', 'hsa-miR-511-3p': 'hsa-mir-511', 'hsa-miR-5187-3p': 'hsa-mir-5187', 'hsa-miR-532-3p': 'hsa-mir-532', 'hsa-miR-539-3p': 'hsa-mir-539', 'hsa-miR-541-3p': 'hsa-mir-541', 'hsa-miR-542-3p': 'hsa-mir-542', 'hsa-miR-543': 'hsa-mir-543', 'hsa-miR-545-3p': 'hsa-mir-545', 'hsa-miR-548au-3p': 'hsa-mir-548au', 'hsa-miR-548aw': 'hsa-mir-548aw', 'hsa-miR-548b-3p': 'hsa-mir-548b', 'hsa-miR-548e-3p': 'hsa-mir-548e', 'hsa-miR-548j-3p': 'hsa-mir-548j', 'hsa-miR-548o-3p': 'hsa-mir-548o', 'hsa-miR-548s': 'hsa-mir-548s', 'hsa-miR-548v': 'hsa-mir-548v', 'hsa-miR-550a-3-5p': 'hsa-mir-550a-3', 'hsa-miR-551a': 'hsa-mir-551a', 'hsa-miR-551b-3p': 'hsa-mir-551b', 'hsa-miR-552-3p': 'hsa-mir-552', 'hsa-miR-556-3p': 'hsa-mir-556', 'hsa-miR-5581-3p': 'hsa-mir-5581', 'hsa-miR-5586-3p': 'hsa-mir-5586', 'hsa-miR-561-3p': 'hsa-mir-561', 'hsa-miR-5683': 'hsa-mir-5683', 'hsa-miR-5684': 'hsa-mir-5684', 'hsa-miR-5687': 'hsa-mir-5687', 'hsa-miR-5696': 'hsa-mir-5696', 'hsa-miR-5698': 'hsa-mir-5698', 'hsa-miR-5699-3p': 'hsa-mir-5699', 'hsa-miR-570-3p': 'hsa-mir-570', 'hsa-miR-5703': 'hsa-mir-5703', 'hsa-miR-5706': 'hsa-mir-5706', 'hsa-miR-574-3p': 'hsa-mir-574', 'hsa-miR-576-3p': 'hsa-mir-576', 'hsa-miR-577': 'hsa-mir-577', 'hsa-miR-579-3p': 'hsa-mir-579', 'hsa-miR-580-3p': 'hsa-mir-580', 'hsa-miR-581': 'hsa-mir-581', 'hsa-miR-582-3p': 'hsa-mir-582', 'hsa-miR-584-3p': 'hsa-mir-584', 'hsa-miR-585-3p': 'hsa-mir-585', 'hsa-miR-589-3p': 'hsa-mir-589', 'hsa-miR-590-3p': 'hsa-mir-590', 'hsa-miR-592': 'hsa-mir-592', 'hsa-miR-598-3p': 'hsa-mir-598', 'hsa-miR-605-3p': 'hsa-mir-605', 'hsa-miR-607': 'hsa-mir-607', 'hsa-miR-6125': 'hsa-mir-6125', 'hsa-miR-615-3p': 'hsa-mir-615', 'hsa-miR-616-3p': 'hsa-mir-616', 'hsa-miR-618': 'hsa-mir-618', 'hsa-miR-624-3p': 'hsa-mir-624', 'hsa-miR-625-3p': 'hsa-mir-625', 'hsa-miR-627-3p': 'hsa-mir-627', 'hsa-miR-628-3p': 'hsa-mir-628', 'hsa-miR-629-3p': 'hsa-mir-629', 'hsa-miR-632': 'hsa-mir-632', 'hsa-miR-636': 'hsa-mir-636', 'hsa-miR-639': 'hsa-mir-639', 'hsa-miR-642a-3p': 'hsa-mir-642a', 'hsa-miR-643': 'hsa-mir-643', 'hsa-miR-6501-3p': 'hsa-mir-6501', 'hsa-miR-6502-3p': 'hsa-mir-6502', 'hsa-miR-6503-3p': 'hsa-mir-6503', 'hsa-miR-6509-3p': 'hsa-mir-6509', 'hsa-miR-651-3p': 'hsa-mir-651', 'hsa-miR-6510-3p': 'hsa-mir-6510', 'hsa-miR-6514-3p': 'hsa-mir-6514', 'hsa-miR-6516-3p': 'hsa-mir-6516', 'hsa-miR-652-3p': 'hsa-mir-652', 'hsa-miR-653-3p': 'hsa-mir-653', 'hsa-miR-654-3p': 'hsa-mir-654', 'hsa-miR-655-3p': 'hsa-mir-655', 'hsa-miR-656-3p': 'hsa-mir-656', 'hsa-miR-658': 'hsa-mir-658', 'hsa-miR-659-3p': 'hsa-mir-659', 'hsa-miR-660-3p': 'hsa-mir-660', 'hsa-miR-664a-3p': 'hsa-mir-664a', 'hsa-miR-664b-3p': 'hsa-mir-664b', 'hsa-miR-665': 'hsa-mir-665', 'hsa-miR-671-3p': 'hsa-mir-671', 'hsa-miR-6716-3p': 'hsa-mir-6716', 'hsa-miR-6718-5p': 'hsa-mir-6718', 'hsa-miR-6720-3p': 'hsa-mir-6720', 'hsa-miR-6730-3p': 'hsa-mir-6730', 'hsa-miR-6733-3p': 'hsa-mir-6733', 'hsa-miR-6734-3p': 'hsa-mir-6734', 'hsa-miR-675-3p': 'hsa-mir-675', 'hsa-miR-6755-3p': 'hsa-mir-6755', 'hsa-miR-676-3p': 'hsa-mir-676', 'hsa-miR-6761-3p': 'hsa-mir-6761', 'hsa-miR-6777-3p': 'hsa-mir-6777', 'hsa-miR-6783-3p': 'hsa-mir-6783', 'hsa-miR-6793-3p': 'hsa-mir-6793', 'hsa-miR-6798-3p': 'hsa-mir-6798', 'hsa-miR-6802-3p': 'hsa-mir-6802', 'hsa-miR-6803-3p': 'hsa-mir-6803', 'hsa-miR-6806-3p': 'hsa-mir-6806', 'hsa-miR-6808-3p': 'hsa-mir-6808', 'hsa-miR-6815-3p': 'hsa-mir-6815', 'hsa-miR-6820-3p': 'hsa-mir-6820', 'hsa-miR-6837-3p': 'hsa-mir-6837', 'hsa-miR-6842-3p': 'hsa-mir-6842', 'hsa-miR-6852-3p': 'hsa-mir-6852', 'hsa-miR-6854-3p': 'hsa-mir-6854', 'hsa-miR-6868-3p': 'hsa-mir-6868', 'hsa-miR-6874-3p': 'hsa-mir-6874', 'hsa-miR-6875-3p': 'hsa-mir-6875', 'hsa-miR-6877-3p': 'hsa-mir-6877', 'hsa-miR-6892-3p': 'hsa-mir-6892', 'hsa-miR-7-1-3p': 'hsa-mir-7-1', 'hsa-miR-7-2-3p': 'hsa-mir-7-2', 'hsa-miR-708-3p': 'hsa-mir-708', 'hsa-miR-7156-3p': 'hsa-mir-7156', 'hsa-miR-744-3p': 'hsa-mir-744', 'hsa-miR-758-3p': 'hsa-mir-758', 'hsa-miR-760': 'hsa-mir-760', 'hsa-miR-765': 'hsa-mir-765', 'hsa-miR-766-3p': 'hsa-mir-766', 'hsa-miR-767-3p': 'hsa-mir-767', 'hsa-miR-769-3p': 'hsa-mir-769', 'hsa-miR-7702': 'hsa-mir-7702', 'hsa-miR-7705': 'hsa-mir-7705', 'hsa-miR-7706': 'hsa-mir-7706', 'hsa-miR-7854-3p': 'hsa-mir-7854', 'hsa-miR-874-3p': 'hsa-mir-874', 'hsa-miR-877-3p': 'hsa-mir-877', 'hsa-miR-885-3p': 'hsa-mir-885', 'hsa-miR-887-3p': 'hsa-mir-887', 'hsa-miR-889-3p': 'hsa-mir-889', 'hsa-miR-891a-3p': 'hsa-mir-891a', 'hsa-miR-92a-1-5p': 'hsa-mir-92a-1', 'hsa-miR-92a-2-5p': 'hsa-mir-92a-2', 'hsa-miR-92b-3p': 'hsa-mir-92b', 'hsa-miR-93-3p': 'hsa-mir-93', 'hsa-miR-934': 'hsa-mir-934', 'hsa-miR-935': 'hsa-mir-935', 'hsa-miR-937-3p': 'hsa-mir-937', 'hsa-miR-939-3p': 'hsa-mir-939', 'hsa-miR-940': 'hsa-mir-940', 'hsa-miR-942-3p': 'hsa-mir-942', 'hsa-miR-944': 'hsa-mir-944', 'hsa-miR-95-3p': 'hsa-mir-95', 'hsa-miR-96-3p': 'hsa-mir-96', 'hsa-miR-98-3p': 'hsa-mir-98', 'hsa-miR-99a-3p': 'hsa-mir-99a', 'hsa-miR-99b-3p': 'hsa-mir-99b'}\n",
            "Duplicate dict 368\n",
            "{'hsa-let-7b-5p': 'hsa-let-7b', 'hsa-let-7c-5p': 'hsa-let-7c', 'hsa-let-7d-5p': 'hsa-let-7d', 'hsa-let-7e-5p': 'hsa-let-7e', 'hsa-let-7g-5p': 'hsa-let-7g', 'hsa-let-7i-5p': 'hsa-let-7i', 'hsa-miR-100-5p': 'hsa-mir-100', 'hsa-miR-106a-5p': 'hsa-mir-106a', 'hsa-miR-106b-5p': 'hsa-mir-106b', 'hsa-miR-10a-5p': 'hsa-mir-10a', 'hsa-miR-10b-5p': 'hsa-mir-10b', 'hsa-miR-1180-5p': 'hsa-mir-1180', 'hsa-miR-1224-5p': 'hsa-mir-1224', 'hsa-miR-1226-5p': 'hsa-mir-1226', 'hsa-miR-1228-5p': 'hsa-mir-1228', 'hsa-miR-1229-5p': 'hsa-mir-1229', 'hsa-miR-1247-5p': 'hsa-mir-1247', 'hsa-miR-1249-5p': 'hsa-mir-1249', 'hsa-miR-1251-5p': 'hsa-mir-1251', 'hsa-miR-125a-5p': 'hsa-mir-125a', 'hsa-miR-126-5p': 'hsa-mir-126', 'hsa-miR-1266-5p': 'hsa-mir-1266', 'hsa-miR-127-5p': 'hsa-mir-127', 'hsa-miR-1271-5p': 'hsa-mir-1271', 'hsa-miR-1277-5p': 'hsa-mir-1277', 'hsa-miR-1287-5p': 'hsa-mir-1287', 'hsa-miR-1288-5p': 'hsa-mir-1288', 'hsa-miR-1292-5p': 'hsa-mir-1292', 'hsa-miR-1296-5p': 'hsa-mir-1296', 'hsa-miR-1301-5p': 'hsa-mir-1301', 'hsa-miR-1304-5p': 'hsa-mir-1304', 'hsa-miR-1306-5p': 'hsa-mir-1306', 'hsa-miR-1307-5p': 'hsa-mir-1307', 'hsa-miR-130a-5p': 'hsa-mir-130a', 'hsa-miR-130b-5p': 'hsa-mir-130b', 'hsa-miR-132-5p': 'hsa-mir-132', 'hsa-miR-134-5p': 'hsa-mir-134', 'hsa-miR-1343-5p': 'hsa-mir-1343', 'hsa-miR-135b-5p': 'hsa-mir-135b', 'hsa-miR-136-5p': 'hsa-mir-136', 'hsa-miR-139-5p': 'hsa-mir-139', 'hsa-miR-140-5p': 'hsa-mir-140', 'hsa-miR-141-5p': 'hsa-mir-141', 'hsa-miR-142-5p': 'hsa-mir-142', 'hsa-miR-143-5p': 'hsa-mir-143', 'hsa-miR-144-5p': 'hsa-mir-144', 'hsa-miR-145-5p': 'hsa-mir-145', 'hsa-miR-1468-5p': 'hsa-mir-1468', 'hsa-miR-146a-5p': 'hsa-mir-146a', 'hsa-miR-146b-5p': 'hsa-mir-146b', 'hsa-miR-147b-5p': 'hsa-mir-147b', 'hsa-miR-148a-5p': 'hsa-mir-148a', 'hsa-miR-148b-5p': 'hsa-mir-148b', 'hsa-miR-149-5p': 'hsa-mir-149', 'hsa-miR-150-5p': 'hsa-mir-150', 'hsa-miR-151a-5p': 'hsa-mir-151a', 'hsa-miR-152-5p': 'hsa-mir-152', 'hsa-miR-154-5p': 'hsa-mir-154', 'hsa-miR-155-5p': 'hsa-mir-155', 'hsa-miR-15a-5p': 'hsa-mir-15a', 'hsa-miR-15b-5p': 'hsa-mir-15b', 'hsa-miR-17-5p': 'hsa-mir-17', 'hsa-miR-181c-5p': 'hsa-mir-181c', 'hsa-miR-181d-5p': 'hsa-mir-181d', 'hsa-miR-182-5p': 'hsa-mir-182', 'hsa-miR-183-5p': 'hsa-mir-183', 'hsa-miR-185-5p': 'hsa-mir-185', 'hsa-miR-186-5p': 'hsa-mir-186', 'hsa-miR-187-5p': 'hsa-mir-187', 'hsa-miR-188-5p': 'hsa-mir-188', 'hsa-miR-18a-5p': 'hsa-mir-18a', 'hsa-miR-18b-5p': 'hsa-mir-18b', 'hsa-miR-190a-5p': 'hsa-mir-190a', 'hsa-miR-190b-5p': 'hsa-mir-190b', 'hsa-miR-191-5p': 'hsa-mir-191', 'hsa-miR-192-5p': 'hsa-mir-192', 'hsa-miR-193a-5p': 'hsa-mir-193a', 'hsa-miR-193b-5p': 'hsa-mir-193b', 'hsa-miR-195-5p': 'hsa-mir-195', 'hsa-miR-196b-5p': 'hsa-mir-196b', 'hsa-miR-197-5p': 'hsa-mir-197', 'hsa-miR-199b-5p': 'hsa-mir-199b', 'hsa-miR-19a-5p': 'hsa-mir-19a', 'hsa-miR-200a-5p': 'hsa-mir-200a', 'hsa-miR-200b-5p': 'hsa-mir-200b', 'hsa-miR-200c-5p': 'hsa-mir-200c', 'hsa-miR-202-5p': 'hsa-mir-202', 'hsa-miR-203a-5p': 'hsa-mir-203a', 'hsa-miR-203b-5p': 'hsa-mir-203b', 'hsa-miR-204-5p': 'hsa-mir-204', 'hsa-miR-205-5p': 'hsa-mir-205', 'hsa-miR-20a-5p': 'hsa-mir-20a', 'hsa-miR-20b-5p': 'hsa-mir-20b', 'hsa-miR-21-5p': 'hsa-mir-21', 'hsa-miR-210-5p': 'hsa-mir-210', 'hsa-miR-2114-5p': 'hsa-mir-2114', 'hsa-miR-2116-5p': 'hsa-mir-2116', 'hsa-miR-212-5p': 'hsa-mir-212', 'hsa-miR-214-5p': 'hsa-mir-214', 'hsa-miR-215-5p': 'hsa-mir-215', 'hsa-miR-216a-5p': 'hsa-mir-216a', 'hsa-miR-217-5p': 'hsa-mir-217', 'hsa-miR-219b-5p': 'hsa-mir-219b', 'hsa-miR-22-5p': 'hsa-mir-22', 'hsa-miR-221-5p': 'hsa-mir-221', 'hsa-miR-222-5p': 'hsa-mir-222', 'hsa-miR-223-5p': 'hsa-mir-223', 'hsa-miR-224-5p': 'hsa-mir-224', 'hsa-miR-2277-5p': 'hsa-mir-2277', 'hsa-miR-2355-5p': 'hsa-mir-2355', 'hsa-miR-23a-5p': 'hsa-mir-23a', 'hsa-miR-23b-5p': 'hsa-mir-23b', 'hsa-miR-25-5p': 'hsa-mir-25', 'hsa-miR-26b-5p': 'hsa-mir-26b', 'hsa-miR-27a-5p': 'hsa-mir-27a', 'hsa-miR-27b-5p': 'hsa-mir-27b', 'hsa-miR-28-5p': 'hsa-mir-28', 'hsa-miR-296-5p': 'hsa-mir-296', 'hsa-miR-299-5p': 'hsa-mir-299', 'hsa-miR-29a-5p': 'hsa-mir-29a', 'hsa-miR-29c-5p': 'hsa-mir-29c', 'hsa-miR-301a-5p': 'hsa-mir-301a', 'hsa-miR-301b-5p': 'hsa-mir-301b', 'hsa-miR-3064-5p': 'hsa-mir-3064', 'hsa-miR-3065-5p': 'hsa-mir-3065', 'hsa-miR-3074-5p': 'hsa-mir-3074', 'hsa-miR-30a-5p': 'hsa-mir-30a', 'hsa-miR-30b-5p': 'hsa-mir-30b', 'hsa-miR-30d-5p': 'hsa-mir-30d', 'hsa-miR-30e-5p': 'hsa-mir-30e', 'hsa-miR-31-5p': 'hsa-mir-31', 'hsa-miR-3117-5p': 'hsa-mir-3117', 'hsa-miR-3127-5p': 'hsa-mir-3127', 'hsa-miR-3129-5p': 'hsa-mir-3129', 'hsa-miR-3136-5p': 'hsa-mir-3136', 'hsa-miR-3150b-5p': 'hsa-mir-3150b', 'hsa-miR-3157-5p': 'hsa-mir-3157', 'hsa-miR-3173-5p': 'hsa-mir-3173', 'hsa-miR-3187-5p': 'hsa-mir-3187', 'hsa-miR-3191-5p': 'hsa-mir-3191', 'hsa-miR-3194-5p': 'hsa-mir-3194', 'hsa-miR-32-5p': 'hsa-mir-32', 'hsa-miR-3200-5p': 'hsa-mir-3200', 'hsa-miR-320a-5p': 'hsa-mir-320a', 'hsa-miR-323a-5p': 'hsa-mir-323a', 'hsa-miR-323b-5p': 'hsa-mir-323b', 'hsa-miR-324-5p': 'hsa-mir-324', 'hsa-miR-328-5p': 'hsa-mir-328', 'hsa-miR-330-5p': 'hsa-mir-330', 'hsa-miR-331-5p': 'hsa-mir-331', 'hsa-miR-335-5p': 'hsa-mir-335', 'hsa-miR-337-5p': 'hsa-mir-337', 'hsa-miR-338-5p': 'hsa-mir-338', 'hsa-miR-339-5p': 'hsa-mir-339', 'hsa-miR-33a-5p': 'hsa-mir-33a', 'hsa-miR-33b-5p': 'hsa-mir-33b', 'hsa-miR-340-5p': 'hsa-mir-340', 'hsa-miR-342-5p': 'hsa-mir-342', 'hsa-miR-345-5p': 'hsa-mir-345', 'hsa-miR-34a-5p': 'hsa-mir-34a', 'hsa-miR-34b-5p': 'hsa-mir-34b', 'hsa-miR-34c-5p': 'hsa-mir-34c', 'hsa-miR-3605-5p': 'hsa-mir-3605', 'hsa-miR-361-5p': 'hsa-mir-361', 'hsa-miR-3613-5p': 'hsa-mir-3613', 'hsa-miR-3614-5p': 'hsa-mir-3614', 'hsa-miR-3619-5p': 'hsa-mir-3619', 'hsa-miR-362-5p': 'hsa-mir-362', 'hsa-miR-363-5p': 'hsa-mir-363', 'hsa-miR-365a-5p': 'hsa-mir-365a', 'hsa-miR-365b-5p': 'hsa-mir-365b', 'hsa-miR-3664-5p': 'hsa-mir-3664', 'hsa-miR-3677-5p': 'hsa-mir-3677', 'hsa-miR-3678-5p': 'hsa-mir-3678', 'hsa-miR-3682-5p': 'hsa-mir-3682', 'hsa-miR-369-5p': 'hsa-mir-369', 'hsa-miR-3691-5p': 'hsa-mir-3691', 'hsa-miR-370-5p': 'hsa-mir-370', 'hsa-miR-374a-5p': 'hsa-mir-374a', 'hsa-miR-374b-5p': 'hsa-mir-374b', 'hsa-miR-375-5p': 'hsa-mir-375', 'hsa-miR-376b-5p': 'hsa-mir-376b', 'hsa-miR-376c-5p': 'hsa-mir-376c', 'hsa-miR-377-5p': 'hsa-mir-377', 'hsa-miR-378a-5p': 'hsa-mir-378a', 'hsa-miR-379-5p': 'hsa-mir-379', 'hsa-miR-380-5p': 'hsa-mir-380', 'hsa-miR-381-5p': 'hsa-mir-381', 'hsa-miR-382-5p': 'hsa-mir-382', 'hsa-miR-3912-5p': 'hsa-mir-3912', 'hsa-miR-3922-5p': 'hsa-mir-3922', 'hsa-miR-3928-5p': 'hsa-mir-3928', 'hsa-miR-3934-5p': 'hsa-mir-3934', 'hsa-miR-3940-5p': 'hsa-mir-3940', 'hsa-miR-3942-5p': 'hsa-mir-3942', 'hsa-miR-3944-5p': 'hsa-mir-3944', 'hsa-miR-409-5p': 'hsa-mir-409', 'hsa-miR-410-5p': 'hsa-mir-410', 'hsa-miR-411-5p': 'hsa-mir-411', 'hsa-miR-412-5p': 'hsa-mir-412', 'hsa-miR-423-5p': 'hsa-mir-423', 'hsa-miR-424-5p': 'hsa-mir-424', 'hsa-miR-425-5p': 'hsa-mir-425', 'hsa-miR-431-5p': 'hsa-mir-431', 'hsa-miR-432-5p': 'hsa-mir-432', 'hsa-miR-433-5p': 'hsa-mir-433', 'hsa-miR-4423-5p': 'hsa-mir-4423', 'hsa-miR-450b-5p': 'hsa-mir-450b', 'hsa-miR-452-5p': 'hsa-mir-452', 'hsa-miR-454-5p': 'hsa-mir-454', 'hsa-miR-455-5p': 'hsa-mir-455', 'hsa-miR-4638-5p': 'hsa-mir-4638', 'hsa-miR-4640-5p': 'hsa-mir-4640', 'hsa-miR-4645-5p': 'hsa-mir-4645', 'hsa-miR-4661-5p': 'hsa-mir-4661', 'hsa-miR-4662a-5p': 'hsa-mir-4662a', 'hsa-miR-4664-5p': 'hsa-mir-4664', 'hsa-miR-4668-5p': 'hsa-mir-4668', 'hsa-miR-4676-5p': 'hsa-mir-4676', 'hsa-miR-4677-5p': 'hsa-mir-4677', 'hsa-miR-4685-5p': 'hsa-mir-4685', 'hsa-miR-4707-5p': 'hsa-mir-4707', 'hsa-miR-4709-5p': 'hsa-mir-4709', 'hsa-miR-4714-5p': 'hsa-mir-4714', 'hsa-miR-4724-5p': 'hsa-mir-4724', 'hsa-miR-4728-5p': 'hsa-mir-4728', 'hsa-miR-4732-5p': 'hsa-mir-4732', 'hsa-miR-4742-5p': 'hsa-mir-4742', 'hsa-miR-4746-5p': 'hsa-mir-4746', 'hsa-miR-4762-5p': 'hsa-mir-4762', 'hsa-miR-4766-5p': 'hsa-mir-4766', 'hsa-miR-4772-5p': 'hsa-mir-4772', 'hsa-miR-4781-5p': 'hsa-mir-4781', 'hsa-miR-4786-5p': 'hsa-mir-4786', 'hsa-miR-4787-5p': 'hsa-mir-4787', 'hsa-miR-4797-5p': 'hsa-mir-4797', 'hsa-miR-483-5p': 'hsa-mir-483', 'hsa-miR-485-5p': 'hsa-mir-485', 'hsa-miR-487a-5p': 'hsa-mir-487a', 'hsa-miR-487b-5p': 'hsa-mir-487b', 'hsa-miR-489-5p': 'hsa-mir-489', 'hsa-miR-491-5p': 'hsa-mir-491', 'hsa-miR-493-5p': 'hsa-mir-493', 'hsa-miR-494-5p': 'hsa-mir-494', 'hsa-miR-495-5p': 'hsa-mir-495', 'hsa-miR-497-5p': 'hsa-mir-497', 'hsa-miR-4999-5p': 'hsa-mir-4999', 'hsa-miR-499a-5p': 'hsa-mir-499a', 'hsa-miR-5000-5p': 'hsa-mir-5000', 'hsa-miR-5001-5p': 'hsa-mir-5001', 'hsa-miR-5003-5p': 'hsa-mir-5003', 'hsa-miR-500a-5p': 'hsa-mir-500a', 'hsa-miR-500b-5p': 'hsa-mir-500b', 'hsa-miR-501-5p': 'hsa-mir-501', 'hsa-miR-5010-5p': 'hsa-mir-5010', 'hsa-miR-502-5p': 'hsa-mir-502', 'hsa-miR-503-5p': 'hsa-mir-503', 'hsa-miR-504-5p': 'hsa-mir-504', 'hsa-miR-505-5p': 'hsa-mir-505', 'hsa-miR-508-5p': 'hsa-mir-508', 'hsa-miR-511-5p': 'hsa-mir-511', 'hsa-miR-5187-5p': 'hsa-mir-5187', 'hsa-miR-532-5p': 'hsa-mir-532', 'hsa-miR-539-5p': 'hsa-mir-539', 'hsa-miR-541-5p': 'hsa-mir-541', 'hsa-miR-542-5p': 'hsa-mir-542', 'hsa-miR-545-5p': 'hsa-mir-545', 'hsa-miR-548au-5p': 'hsa-mir-548au', 'hsa-miR-548b-5p': 'hsa-mir-548b', 'hsa-miR-548e-5p': 'hsa-mir-548e', 'hsa-miR-548j-5p': 'hsa-mir-548j', 'hsa-miR-548o-5p': 'hsa-mir-548o', 'hsa-miR-551b-5p': 'hsa-mir-551b', 'hsa-miR-552-5p': 'hsa-mir-552', 'hsa-miR-556-5p': 'hsa-mir-556', 'hsa-miR-5581-5p': 'hsa-mir-5581', 'hsa-miR-5586-5p': 'hsa-mir-5586', 'hsa-miR-561-5p': 'hsa-mir-561', 'hsa-miR-5699-5p': 'hsa-mir-5699', 'hsa-miR-570-5p': 'hsa-mir-570', 'hsa-miR-574-5p': 'hsa-mir-574', 'hsa-miR-576-5p': 'hsa-mir-576', 'hsa-miR-579-5p': 'hsa-mir-579', 'hsa-miR-580-5p': 'hsa-mir-580', 'hsa-miR-582-5p': 'hsa-mir-582', 'hsa-miR-584-5p': 'hsa-mir-584', 'hsa-miR-585-5p': 'hsa-mir-585', 'hsa-miR-589-5p': 'hsa-mir-589', 'hsa-miR-590-5p': 'hsa-mir-590', 'hsa-miR-598-5p': 'hsa-mir-598', 'hsa-miR-605-5p': 'hsa-mir-605', 'hsa-miR-615-5p': 'hsa-mir-615', 'hsa-miR-616-5p': 'hsa-mir-616', 'hsa-miR-624-5p': 'hsa-mir-624', 'hsa-miR-625-5p': 'hsa-mir-625', 'hsa-miR-627-5p': 'hsa-mir-627', 'hsa-miR-628-5p': 'hsa-mir-628', 'hsa-miR-629-5p': 'hsa-mir-629', 'hsa-miR-642a-5p': 'hsa-mir-642a', 'hsa-miR-6501-5p': 'hsa-mir-6501', 'hsa-miR-6502-5p': 'hsa-mir-6502', 'hsa-miR-6503-5p': 'hsa-mir-6503', 'hsa-miR-6509-5p': 'hsa-mir-6509', 'hsa-miR-651-5p': 'hsa-mir-651', 'hsa-miR-6510-5p': 'hsa-mir-6510', 'hsa-miR-6514-5p': 'hsa-mir-6514', 'hsa-miR-6516-5p': 'hsa-mir-6516', 'hsa-miR-652-5p': 'hsa-mir-652', 'hsa-miR-653-5p': 'hsa-mir-653', 'hsa-miR-654-5p': 'hsa-mir-654', 'hsa-miR-655-5p': 'hsa-mir-655', 'hsa-miR-656-5p': 'hsa-mir-656', 'hsa-miR-659-5p': 'hsa-mir-659', 'hsa-miR-660-5p': 'hsa-mir-660', 'hsa-miR-664a-5p': 'hsa-mir-664a', 'hsa-miR-664b-5p': 'hsa-mir-664b', 'hsa-miR-671-5p': 'hsa-mir-671', 'hsa-miR-6716-5p': 'hsa-mir-6716', 'hsa-miR-6720-5p': 'hsa-mir-6720', 'hsa-miR-6730-5p': 'hsa-mir-6730', 'hsa-miR-6733-5p': 'hsa-mir-6733', 'hsa-miR-6734-5p': 'hsa-mir-6734', 'hsa-miR-675-5p': 'hsa-mir-675', 'hsa-miR-6755-5p': 'hsa-mir-6755', 'hsa-miR-676-5p': 'hsa-mir-676', 'hsa-miR-6761-5p': 'hsa-mir-6761', 'hsa-miR-6777-5p': 'hsa-mir-6777', 'hsa-miR-6783-5p': 'hsa-mir-6783', 'hsa-miR-6793-5p': 'hsa-mir-6793', 'hsa-miR-6798-5p': 'hsa-mir-6798', 'hsa-miR-6802-5p': 'hsa-mir-6802', 'hsa-miR-6803-5p': 'hsa-mir-6803', 'hsa-miR-6806-5p': 'hsa-mir-6806', 'hsa-miR-6808-5p': 'hsa-mir-6808', 'hsa-miR-6815-5p': 'hsa-mir-6815', 'hsa-miR-6820-5p': 'hsa-mir-6820', 'hsa-miR-6837-5p': 'hsa-mir-6837', 'hsa-miR-6842-5p': 'hsa-mir-6842', 'hsa-miR-6852-5p': 'hsa-mir-6852', 'hsa-miR-6854-5p': 'hsa-mir-6854', 'hsa-miR-6868-5p': 'hsa-mir-6868', 'hsa-miR-6874-5p': 'hsa-mir-6874', 'hsa-miR-6875-5p': 'hsa-mir-6875', 'hsa-miR-6877-5p': 'hsa-mir-6877', 'hsa-miR-6892-5p': 'hsa-mir-6892', 'hsa-miR-708-5p': 'hsa-mir-708', 'hsa-miR-7156-5p': 'hsa-mir-7156', 'hsa-miR-744-5p': 'hsa-mir-744', 'hsa-miR-758-5p': 'hsa-mir-758', 'hsa-miR-766-5p': 'hsa-mir-766', 'hsa-miR-767-5p': 'hsa-mir-767', 'hsa-miR-769-5p': 'hsa-mir-769', 'hsa-miR-874-5p': 'hsa-mir-874', 'hsa-miR-877-5p': 'hsa-mir-877', 'hsa-miR-885-5p': 'hsa-mir-885', 'hsa-miR-887-5p': 'hsa-mir-887', 'hsa-miR-889-5p': 'hsa-mir-889', 'hsa-miR-891a-5p': 'hsa-mir-891a', 'hsa-miR-92b-5p': 'hsa-mir-92b', 'hsa-miR-93-5p': 'hsa-mir-93', 'hsa-miR-937-5p': 'hsa-mir-937', 'hsa-miR-939-5p': 'hsa-mir-939', 'hsa-miR-942-5p': 'hsa-mir-942', 'hsa-miR-95-5p': 'hsa-mir-95', 'hsa-miR-96-5p': 'hsa-mir-96', 'hsa-miR-98-5p': 'hsa-mir-98', 'hsa-miR-99a-5p': 'hsa-mir-99a', 'hsa-miR-99b-5p': 'hsa-mir-99b'}\n"
          ]
        },
        {
          "output_type": "stream",
          "name": "stderr",
          "text": [
            "<ipython-input-43-3acba484fcff>:18: SettingWithCopyWarning: \n",
            "A value is trying to be set on a copy of a slice from a DataFrame\n",
            "\n",
            "See the caveats in the documentation: https://pandas.pydata.org/pandas-docs/stable/user_guide/indexing.html#returning-a-view-versus-a-copy\n",
            "  df_filtered.rename(rename_dict, axis=1, inplace=True)\n",
            "<ipython-input-43-3acba484fcff>:25: SettingWithCopyWarning: \n",
            "A value is trying to be set on a copy of a slice from a DataFrame.\n",
            "Try using .loc[row_indexer,col_indexer] = value instead\n",
            "\n",
            "See the caveats in the documentation: https://pandas.pydata.org/pandas-docs/stable/user_guide/indexing.html#returning-a-view-versus-a-copy\n",
            "  df_filtered[new_col] = df_filtered[new_col]+ df_filtered[col]\n"
          ]
        },
        {
          "output_type": "stream",
          "name": "stdout",
          "text": [
            "Index(['case_id', 'disease_type', 'hsa-let-7a-2', 'hsa-let-7b', 'hsa-let-7c',\n",
            "       'hsa-let-7d', 'hsa-let-7e', 'hsa-let-7f-1', 'hsa-let-7f-2',\n",
            "       'hsa-let-7g',\n",
            "       ...\n",
            "       'hsa-mir-937', 'hsa-mir-939', 'hsa-mir-940', 'hsa-mir-942',\n",
            "       'hsa-mir-944', 'hsa-mir-95', 'hsa-mir-96', 'hsa-mir-98', 'hsa-mir-99a',\n",
            "       'hsa-mir-99b'],\n",
            "      dtype='object', length=499)\n"
          ]
        },
        {
          "output_type": "stream",
          "name": "stderr",
          "text": [
            "<ipython-input-43-3acba484fcff>:27: SettingWithCopyWarning: \n",
            "A value is trying to be set on a copy of a slice from a DataFrame\n",
            "\n",
            "See the caveats in the documentation: https://pandas.pydata.org/pandas-docs/stable/user_guide/indexing.html#returning-a-view-versus-a-copy\n",
            "  df_filtered.drop(columns=duplicate_dict.keys(), inplace=True)\n"
          ]
        }
      ],
      "source": [
        "#Now rename columns\n",
        "df_filtered =df_feat[list(mapping_dict.keys())]\n",
        "\n",
        "rename_dict={}\n",
        "duplicate_dict={}\n",
        "for col in df_filtered.columns:\n",
        "    new_col = col.replace('miR', 'mir')\n",
        "    new_col= new_col.replace('-3p', \"\")\n",
        "    new_col= new_col.replace('-5p', \"\")\n",
        "    if new_col in rename_dict.values():\n",
        "        duplicate_dict[col] = new_col\n",
        "    else:\n",
        "        rename_dict[col] = new_col\n",
        "print('Rename dict', len(rename_dict))\n",
        "print(rename_dict)\n",
        "print('Duplicate dict', len(duplicate_dict))\n",
        "print(duplicate_dict)\n",
        "df_filtered.rename(rename_dict, axis=1, inplace=True)\n",
        "#print(df_filtered.head())\n",
        "#print(len(set(df_filtered.columns)))\n",
        "# Now look at the columns in duplicate_dict and add the values there to the new_col\n",
        "# Then remove the columns in duplicate_dict (i.e the keys)\n",
        "\n",
        "for col, new_col in duplicate_dict.items():\n",
        "    df_filtered[new_col] = df_filtered[new_col]+ df_filtered[col]\n",
        "\n",
        "df_filtered.drop(columns=duplicate_dict.keys(), inplace=True)\n",
        "#df_filtered['case_id'] = df_filtered.index\n",
        "df_filtered= df_filtered.reset_index() #drop=True)\n",
        "df_filtered.rename(columns={'index':'case_id'}, inplace=True)\n",
        "print(df_filtered.columns)"
      ]
    },
    {
      "cell_type": "code",
      "execution_count": 44,
      "id": "5cc39ff8",
      "metadata": {
        "id": "5cc39ff8"
      },
      "outputs": [],
      "source": [
        "\n",
        "df_final=df_filtered.dropna()\n",
        "column_names = pd.DataFrame(df_final.columns, columns=[\"column\"])\n",
        "column_names.to_csv('miRNA_SRA_features.csv', index=False)\n",
        "df_final.drop(columns=['case_id'],inplace=True)\n",
        "df_final.to_csv('SRA_data.csv', index=False)"
      ]
    }
  ],
  "metadata": {
    "kernelspec": {
      "display_name": "Python 3 (ipykernel)",
      "language": "python",
      "name": "python3"
    },
    "language_info": {
      "codemirror_mode": {
        "name": "ipython",
        "version": 3
      },
      "file_extension": ".py",
      "mimetype": "text/x-python",
      "name": "python",
      "nbconvert_exporter": "python",
      "pygments_lexer": "ipython3",
      "version": "3.11.4"
    },
    "colab": {
      "provenance": [],
      "include_colab_link": true
    }
  },
  "nbformat": 4,
  "nbformat_minor": 5
}